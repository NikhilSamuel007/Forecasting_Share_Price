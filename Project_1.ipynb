{
 "cells": [
  {
   "cell_type": "markdown",
   "id": "f5e7f6df",
   "metadata": {},
   "source": [
    "# Forecasting Stocks using AI "
   ]
  },
  {
   "cell_type": "markdown",
   "id": "e1098d4d",
   "metadata": {},
   "source": [
    "# Problem Statement"
   ]
  },
  {
   "cell_type": "markdown",
   "id": "26636fcf",
   "metadata": {},
   "source": [
    "In a hypothetical world, you are an experienced stock market dealer whose goal is to leverage AI and algorithms to earn profits. During your research, you came across the internal workings' datasheet of TGD, which comprises three subsidiaries: TGD Consultancy, TGD Automobiles, and TGD Power.  You feel that these companies’ stock prices depend on this dataset, and there is also some interdependence between the stock prices of these three subsidiaries. To make informed decisions, you aim to study and analyze the dataset to forecast the values of TGD Consultancy, TGD Automobiles, and TGD Power share down the line. This will enable you to make timely buy and sell decisions, maximizing your profits. "
   ]
  },
  {
   "cell_type": "markdown",
   "id": "9108c6c0",
   "metadata": {},
   "source": [
    "# Import Libraries & Datasets"
   ]
  },
  {
   "cell_type": "code",
   "execution_count": 1,
   "id": "039091d2",
   "metadata": {
    "ExecuteTime": {
     "end_time": "2023-07-28T17:32:05.380249Z",
     "start_time": "2023-07-28T17:31:52.361156Z"
    }
   },
   "outputs": [],
   "source": [
    "import pandas as pd\n",
    "import numpy as np\n",
    "import matplotlib.pyplot as plt\n",
    "import seaborn as sns\n",
    "from sklearn.model_selection import train_test_split\n",
    "from sklearn.linear_model import LinearRegression\n",
    "from sklearn.metrics import mean_squared_error, r2_score\n",
    "from sklearn.tree import DecisionTreeRegressor\n",
    "from sklearn.ensemble import RandomForestRegressor"
   ]
  },
  {
   "cell_type": "code",
   "execution_count": 2,
   "id": "0b8f5634",
   "metadata": {
    "ExecuteTime": {
     "end_time": "2023-07-28T17:34:44.922287Z",
     "start_time": "2023-07-28T17:32:05.380249Z"
    }
   },
   "outputs": [
    {
     "data": {
      "text/html": [
       "<div>\n",
       "<style scoped>\n",
       "    .dataframe tbody tr th:only-of-type {\n",
       "        vertical-align: middle;\n",
       "    }\n",
       "\n",
       "    .dataframe tbody tr th {\n",
       "        vertical-align: top;\n",
       "    }\n",
       "\n",
       "    .dataframe thead th {\n",
       "        text-align: right;\n",
       "    }\n",
       "</style>\n",
       "<table border=\"1\" class=\"dataframe\">\n",
       "  <thead>\n",
       "    <tr style=\"text-align: right;\">\n",
       "      <th></th>\n",
       "      <th>dates</th>\n",
       "      <th>Factor A</th>\n",
       "      <th>Factor B</th>\n",
       "      <th>Factor C</th>\n",
       "      <th>Factor D</th>\n",
       "      <th>Factor E</th>\n",
       "      <th>Factor F</th>\n",
       "      <th>Factor G</th>\n",
       "      <th>Factor H</th>\n",
       "      <th>Factor I</th>\n",
       "      <th>Factor J</th>\n",
       "      <th>Factor K</th>\n",
       "      <th>Factor L</th>\n",
       "      <th>Factor M</th>\n",
       "      <th>Factor N</th>\n",
       "      <th>TGD Consultancy Share price</th>\n",
       "      <th>TGD Automobiles Share price</th>\n",
       "      <th>TGD Power Share price</th>\n",
       "    </tr>\n",
       "  </thead>\n",
       "  <tbody>\n",
       "    <tr>\n",
       "      <th>0</th>\n",
       "      <td>1700-01-01</td>\n",
       "      <td>502.52</td>\n",
       "      <td>498.78</td>\n",
       "      <td>493.98</td>\n",
       "      <td>947.6</td>\n",
       "      <td>505.24</td>\n",
       "      <td>79050</td>\n",
       "      <td>502.10</td>\n",
       "      <td>502.73</td>\n",
       "      <td>630.41</td>\n",
       "      <td>496.60</td>\n",
       "      <td>508.95</td>\n",
       "      <td>512.01</td>\n",
       "      <td>499.20</td>\n",
       "      <td>501.94</td>\n",
       "      <td>519</td>\n",
       "      <td>420</td>\n",
       "      <td>507</td>\n",
       "    </tr>\n",
       "    <tr>\n",
       "      <th>1</th>\n",
       "      <td>1700-01-02</td>\n",
       "      <td>503.33</td>\n",
       "      <td>495.09</td>\n",
       "      <td>496.93</td>\n",
       "      <td>928.6</td>\n",
       "      <td>506.21</td>\n",
       "      <td>31082</td>\n",
       "      <td>502.28</td>\n",
       "      <td>501.96</td>\n",
       "      <td>630.61</td>\n",
       "      <td>496.76</td>\n",
       "      <td>508.97</td>\n",
       "      <td>512.45</td>\n",
       "      <td>500.14</td>\n",
       "      <td>501.51</td>\n",
       "      <td>518</td>\n",
       "      <td>420</td>\n",
       "      <td>507</td>\n",
       "    </tr>\n",
       "    <tr>\n",
       "      <th>2</th>\n",
       "      <td>1700-01-03</td>\n",
       "      <td>500.62</td>\n",
       "      <td>493.71</td>\n",
       "      <td>504.75</td>\n",
       "      <td>935.5</td>\n",
       "      <td>505.51</td>\n",
       "      <td>19375</td>\n",
       "      <td>502.09</td>\n",
       "      <td>499.17</td>\n",
       "      <td>630.81</td>\n",
       "      <td>496.91</td>\n",
       "      <td>508.99</td>\n",
       "      <td>513.31</td>\n",
       "      <td>499.96</td>\n",
       "      <td>501.00</td>\n",
       "      <td>523</td>\n",
       "      <td>437</td>\n",
       "      <td>522</td>\n",
       "    </tr>\n",
       "    <tr>\n",
       "      <th>3</th>\n",
       "      <td>1700-01-04</td>\n",
       "      <td>502.08</td>\n",
       "      <td>492.98</td>\n",
       "      <td>502.20</td>\n",
       "      <td>923.5</td>\n",
       "      <td>505.25</td>\n",
       "      <td>22010</td>\n",
       "      <td>501.88</td>\n",
       "      <td>500.43</td>\n",
       "      <td>631.01</td>\n",
       "      <td>497.06</td>\n",
       "      <td>509.01</td>\n",
       "      <td>513.49</td>\n",
       "      <td>500.05</td>\n",
       "      <td>501.04</td>\n",
       "      <td>522</td>\n",
       "      <td>437</td>\n",
       "      <td>522</td>\n",
       "    </tr>\n",
       "    <tr>\n",
       "      <th>4</th>\n",
       "      <td>1700-01-05</td>\n",
       "      <td>502.81</td>\n",
       "      <td>493.23</td>\n",
       "      <td>499.57</td>\n",
       "      <td>918.1</td>\n",
       "      <td>504.86</td>\n",
       "      <td>26533</td>\n",
       "      <td>501.70</td>\n",
       "      <td>501.46</td>\n",
       "      <td>631.21</td>\n",
       "      <td>497.21</td>\n",
       "      <td>509.03</td>\n",
       "      <td>513.59</td>\n",
       "      <td>500.31</td>\n",
       "      <td>501.10</td>\n",
       "      <td>522</td>\n",
       "      <td>437</td>\n",
       "      <td>522</td>\n",
       "    </tr>\n",
       "  </tbody>\n",
       "</table>\n",
       "</div>"
      ],
      "text/plain": [
       "        dates  Factor A  Factor B  Factor C  Factor D  Factor E  Factor F  \\\n",
       "0  1700-01-01    502.52    498.78    493.98     947.6    505.24     79050   \n",
       "1  1700-01-02    503.33    495.09    496.93     928.6    506.21     31082   \n",
       "2  1700-01-03    500.62    493.71    504.75     935.5    505.51     19375   \n",
       "3  1700-01-04    502.08    492.98    502.20     923.5    505.25     22010   \n",
       "4  1700-01-05    502.81    493.23    499.57     918.1    504.86     26533   \n",
       "\n",
       "   Factor G  Factor H  Factor I  Factor J  Factor K  Factor L  Factor M  \\\n",
       "0    502.10    502.73    630.41    496.60    508.95    512.01    499.20   \n",
       "1    502.28    501.96    630.61    496.76    508.97    512.45    500.14   \n",
       "2    502.09    499.17    630.81    496.91    508.99    513.31    499.96   \n",
       "3    501.88    500.43    631.01    497.06    509.01    513.49    500.05   \n",
       "4    501.70    501.46    631.21    497.21    509.03    513.59    500.31   \n",
       "\n",
       "   Factor N  TGD Consultancy Share price  TGD Automobiles Share price  \\\n",
       "0    501.94                          519                          420   \n",
       "1    501.51                          518                          420   \n",
       "2    501.00                          523                          437   \n",
       "3    501.04                          522                          437   \n",
       "4    501.10                          522                          437   \n",
       "\n",
       "   TGD Power Share price  \n",
       "0                    507  \n",
       "1                    507  \n",
       "2                    522  \n",
       "3                    522  \n",
       "4                    522  "
      ]
     },
     "execution_count": 2,
     "metadata": {},
     "output_type": "execute_result"
    }
   ],
   "source": [
    "Train_Data = pd.read_excel(\"Train_Data.xlsx\")\n",
    "Train_Data.head()"
   ]
  },
  {
   "cell_type": "code",
   "execution_count": 3,
   "id": "0f89cf5c",
   "metadata": {
    "ExecuteTime": {
     "end_time": "2023-07-28T17:34:45.031067Z",
     "start_time": "2023-07-28T17:34:44.932005Z"
    }
   },
   "outputs": [
    {
     "data": {
      "text/html": [
       "<div>\n",
       "<style scoped>\n",
       "    .dataframe tbody tr th:only-of-type {\n",
       "        vertical-align: middle;\n",
       "    }\n",
       "\n",
       "    .dataframe tbody tr th {\n",
       "        vertical-align: top;\n",
       "    }\n",
       "\n",
       "    .dataframe thead th {\n",
       "        text-align: right;\n",
       "    }\n",
       "</style>\n",
       "<table border=\"1\" class=\"dataframe\">\n",
       "  <thead>\n",
       "    <tr style=\"text-align: right;\">\n",
       "      <th></th>\n",
       "      <th>dates</th>\n",
       "      <th>Factor A</th>\n",
       "      <th>Factor B</th>\n",
       "      <th>Factor C</th>\n",
       "      <th>Factor D</th>\n",
       "      <th>Factor E</th>\n",
       "      <th>Factor F</th>\n",
       "      <th>Factor G</th>\n",
       "      <th>Factor H</th>\n",
       "      <th>Factor I</th>\n",
       "      <th>Factor J</th>\n",
       "      <th>Factor K</th>\n",
       "      <th>Factor L</th>\n",
       "      <th>Factor M</th>\n",
       "      <th>Factor N</th>\n",
       "      <th>TGD Consultancy Share price</th>\n",
       "    </tr>\n",
       "  </thead>\n",
       "  <tbody>\n",
       "    <tr>\n",
       "      <th>0</th>\n",
       "      <td>1700-01-01</td>\n",
       "      <td>502.52</td>\n",
       "      <td>498.78</td>\n",
       "      <td>493.98</td>\n",
       "      <td>947.6</td>\n",
       "      <td>505.24</td>\n",
       "      <td>79050</td>\n",
       "      <td>502.10</td>\n",
       "      <td>502.73</td>\n",
       "      <td>630.41</td>\n",
       "      <td>496.60</td>\n",
       "      <td>508.95</td>\n",
       "      <td>512.01</td>\n",
       "      <td>499.20</td>\n",
       "      <td>501.94</td>\n",
       "      <td>519</td>\n",
       "    </tr>\n",
       "    <tr>\n",
       "      <th>1</th>\n",
       "      <td>1700-01-02</td>\n",
       "      <td>503.33</td>\n",
       "      <td>495.09</td>\n",
       "      <td>496.93</td>\n",
       "      <td>928.6</td>\n",
       "      <td>506.21</td>\n",
       "      <td>31082</td>\n",
       "      <td>502.28</td>\n",
       "      <td>501.96</td>\n",
       "      <td>630.61</td>\n",
       "      <td>496.76</td>\n",
       "      <td>508.97</td>\n",
       "      <td>512.45</td>\n",
       "      <td>500.14</td>\n",
       "      <td>501.51</td>\n",
       "      <td>518</td>\n",
       "    </tr>\n",
       "    <tr>\n",
       "      <th>2</th>\n",
       "      <td>1700-01-03</td>\n",
       "      <td>500.62</td>\n",
       "      <td>493.71</td>\n",
       "      <td>504.75</td>\n",
       "      <td>935.5</td>\n",
       "      <td>505.51</td>\n",
       "      <td>19375</td>\n",
       "      <td>502.09</td>\n",
       "      <td>499.17</td>\n",
       "      <td>630.81</td>\n",
       "      <td>496.91</td>\n",
       "      <td>508.99</td>\n",
       "      <td>513.31</td>\n",
       "      <td>499.96</td>\n",
       "      <td>501.00</td>\n",
       "      <td>523</td>\n",
       "    </tr>\n",
       "    <tr>\n",
       "      <th>3</th>\n",
       "      <td>1700-01-04</td>\n",
       "      <td>502.08</td>\n",
       "      <td>492.98</td>\n",
       "      <td>502.20</td>\n",
       "      <td>923.5</td>\n",
       "      <td>505.25</td>\n",
       "      <td>22010</td>\n",
       "      <td>501.88</td>\n",
       "      <td>500.43</td>\n",
       "      <td>631.01</td>\n",
       "      <td>497.06</td>\n",
       "      <td>509.01</td>\n",
       "      <td>513.49</td>\n",
       "      <td>500.05</td>\n",
       "      <td>501.04</td>\n",
       "      <td>522</td>\n",
       "    </tr>\n",
       "    <tr>\n",
       "      <th>4</th>\n",
       "      <td>1700-01-05</td>\n",
       "      <td>502.81</td>\n",
       "      <td>493.23</td>\n",
       "      <td>499.57</td>\n",
       "      <td>918.1</td>\n",
       "      <td>504.86</td>\n",
       "      <td>26533</td>\n",
       "      <td>501.70</td>\n",
       "      <td>501.46</td>\n",
       "      <td>631.21</td>\n",
       "      <td>497.21</td>\n",
       "      <td>509.03</td>\n",
       "      <td>513.59</td>\n",
       "      <td>500.31</td>\n",
       "      <td>501.10</td>\n",
       "      <td>522</td>\n",
       "    </tr>\n",
       "  </tbody>\n",
       "</table>\n",
       "</div>"
      ],
      "text/plain": [
       "        dates  Factor A  Factor B  Factor C  Factor D  Factor E  Factor F  \\\n",
       "0  1700-01-01    502.52    498.78    493.98     947.6    505.24     79050   \n",
       "1  1700-01-02    503.33    495.09    496.93     928.6    506.21     31082   \n",
       "2  1700-01-03    500.62    493.71    504.75     935.5    505.51     19375   \n",
       "3  1700-01-04    502.08    492.98    502.20     923.5    505.25     22010   \n",
       "4  1700-01-05    502.81    493.23    499.57     918.1    504.86     26533   \n",
       "\n",
       "   Factor G  Factor H  Factor I  Factor J  Factor K  Factor L  Factor M  \\\n",
       "0    502.10    502.73    630.41    496.60    508.95    512.01    499.20   \n",
       "1    502.28    501.96    630.61    496.76    508.97    512.45    500.14   \n",
       "2    502.09    499.17    630.81    496.91    508.99    513.31    499.96   \n",
       "3    501.88    500.43    631.01    497.06    509.01    513.49    500.05   \n",
       "4    501.70    501.46    631.21    497.21    509.03    513.59    500.31   \n",
       "\n",
       "   Factor N  TGD Consultancy Share price  \n",
       "0    501.94                          519  \n",
       "1    501.51                          518  \n",
       "2    501.00                          523  \n",
       "3    501.04                          522  \n",
       "4    501.10                          522  "
      ]
     },
     "execution_count": 3,
     "metadata": {},
     "output_type": "execute_result"
    }
   ],
   "source": [
    "Train_Data_A = Train_Data.drop(columns=[\"TGD Automobiles Share price\",\"TGD Power Share price\"], axis=1)\n",
    "Train_Data_A.head()"
   ]
  },
  {
   "cell_type": "code",
   "execution_count": 4,
   "id": "796f52d9",
   "metadata": {
    "ExecuteTime": {
     "end_time": "2023-07-28T17:34:45.124556Z",
     "start_time": "2023-07-28T17:34:45.040063Z"
    }
   },
   "outputs": [
    {
     "data": {
      "text/html": [
       "<div>\n",
       "<style scoped>\n",
       "    .dataframe tbody tr th:only-of-type {\n",
       "        vertical-align: middle;\n",
       "    }\n",
       "\n",
       "    .dataframe tbody tr th {\n",
       "        vertical-align: top;\n",
       "    }\n",
       "\n",
       "    .dataframe thead th {\n",
       "        text-align: right;\n",
       "    }\n",
       "</style>\n",
       "<table border=\"1\" class=\"dataframe\">\n",
       "  <thead>\n",
       "    <tr style=\"text-align: right;\">\n",
       "      <th></th>\n",
       "      <th>dates</th>\n",
       "      <th>Factor A</th>\n",
       "      <th>Factor B</th>\n",
       "      <th>Factor C</th>\n",
       "      <th>Factor D</th>\n",
       "      <th>Factor E</th>\n",
       "      <th>Factor F</th>\n",
       "      <th>Factor G</th>\n",
       "      <th>Factor H</th>\n",
       "      <th>Factor I</th>\n",
       "      <th>Factor J</th>\n",
       "      <th>Factor K</th>\n",
       "      <th>Factor L</th>\n",
       "      <th>Factor M</th>\n",
       "      <th>Factor N</th>\n",
       "      <th>TGD Automobiles Share price</th>\n",
       "    </tr>\n",
       "  </thead>\n",
       "  <tbody>\n",
       "    <tr>\n",
       "      <th>0</th>\n",
       "      <td>1700-01-01</td>\n",
       "      <td>502.52</td>\n",
       "      <td>498.78</td>\n",
       "      <td>493.98</td>\n",
       "      <td>947.6</td>\n",
       "      <td>505.24</td>\n",
       "      <td>79050</td>\n",
       "      <td>502.10</td>\n",
       "      <td>502.73</td>\n",
       "      <td>630.41</td>\n",
       "      <td>496.60</td>\n",
       "      <td>508.95</td>\n",
       "      <td>512.01</td>\n",
       "      <td>499.20</td>\n",
       "      <td>501.94</td>\n",
       "      <td>420</td>\n",
       "    </tr>\n",
       "    <tr>\n",
       "      <th>1</th>\n",
       "      <td>1700-01-02</td>\n",
       "      <td>503.33</td>\n",
       "      <td>495.09</td>\n",
       "      <td>496.93</td>\n",
       "      <td>928.6</td>\n",
       "      <td>506.21</td>\n",
       "      <td>31082</td>\n",
       "      <td>502.28</td>\n",
       "      <td>501.96</td>\n",
       "      <td>630.61</td>\n",
       "      <td>496.76</td>\n",
       "      <td>508.97</td>\n",
       "      <td>512.45</td>\n",
       "      <td>500.14</td>\n",
       "      <td>501.51</td>\n",
       "      <td>420</td>\n",
       "    </tr>\n",
       "    <tr>\n",
       "      <th>2</th>\n",
       "      <td>1700-01-03</td>\n",
       "      <td>500.62</td>\n",
       "      <td>493.71</td>\n",
       "      <td>504.75</td>\n",
       "      <td>935.5</td>\n",
       "      <td>505.51</td>\n",
       "      <td>19375</td>\n",
       "      <td>502.09</td>\n",
       "      <td>499.17</td>\n",
       "      <td>630.81</td>\n",
       "      <td>496.91</td>\n",
       "      <td>508.99</td>\n",
       "      <td>513.31</td>\n",
       "      <td>499.96</td>\n",
       "      <td>501.00</td>\n",
       "      <td>437</td>\n",
       "    </tr>\n",
       "    <tr>\n",
       "      <th>3</th>\n",
       "      <td>1700-01-04</td>\n",
       "      <td>502.08</td>\n",
       "      <td>492.98</td>\n",
       "      <td>502.20</td>\n",
       "      <td>923.5</td>\n",
       "      <td>505.25</td>\n",
       "      <td>22010</td>\n",
       "      <td>501.88</td>\n",
       "      <td>500.43</td>\n",
       "      <td>631.01</td>\n",
       "      <td>497.06</td>\n",
       "      <td>509.01</td>\n",
       "      <td>513.49</td>\n",
       "      <td>500.05</td>\n",
       "      <td>501.04</td>\n",
       "      <td>437</td>\n",
       "    </tr>\n",
       "    <tr>\n",
       "      <th>4</th>\n",
       "      <td>1700-01-05</td>\n",
       "      <td>502.81</td>\n",
       "      <td>493.23</td>\n",
       "      <td>499.57</td>\n",
       "      <td>918.1</td>\n",
       "      <td>504.86</td>\n",
       "      <td>26533</td>\n",
       "      <td>501.70</td>\n",
       "      <td>501.46</td>\n",
       "      <td>631.21</td>\n",
       "      <td>497.21</td>\n",
       "      <td>509.03</td>\n",
       "      <td>513.59</td>\n",
       "      <td>500.31</td>\n",
       "      <td>501.10</td>\n",
       "      <td>437</td>\n",
       "    </tr>\n",
       "  </tbody>\n",
       "</table>\n",
       "</div>"
      ],
      "text/plain": [
       "        dates  Factor A  Factor B  Factor C  Factor D  Factor E  Factor F  \\\n",
       "0  1700-01-01    502.52    498.78    493.98     947.6    505.24     79050   \n",
       "1  1700-01-02    503.33    495.09    496.93     928.6    506.21     31082   \n",
       "2  1700-01-03    500.62    493.71    504.75     935.5    505.51     19375   \n",
       "3  1700-01-04    502.08    492.98    502.20     923.5    505.25     22010   \n",
       "4  1700-01-05    502.81    493.23    499.57     918.1    504.86     26533   \n",
       "\n",
       "   Factor G  Factor H  Factor I  Factor J  Factor K  Factor L  Factor M  \\\n",
       "0    502.10    502.73    630.41    496.60    508.95    512.01    499.20   \n",
       "1    502.28    501.96    630.61    496.76    508.97    512.45    500.14   \n",
       "2    502.09    499.17    630.81    496.91    508.99    513.31    499.96   \n",
       "3    501.88    500.43    631.01    497.06    509.01    513.49    500.05   \n",
       "4    501.70    501.46    631.21    497.21    509.03    513.59    500.31   \n",
       "\n",
       "   Factor N  TGD Automobiles Share price  \n",
       "0    501.94                          420  \n",
       "1    501.51                          420  \n",
       "2    501.00                          437  \n",
       "3    501.04                          437  \n",
       "4    501.10                          437  "
      ]
     },
     "execution_count": 4,
     "metadata": {},
     "output_type": "execute_result"
    }
   ],
   "source": [
    "Train_Data_B = Train_Data.drop([\"TGD Consultancy Share price\",\"TGD Power Share price\"], axis= 1)\n",
    "Train_Data_B.head()"
   ]
  },
  {
   "cell_type": "code",
   "execution_count": 5,
   "id": "d1614eaa",
   "metadata": {
    "ExecuteTime": {
     "end_time": "2023-07-28T17:34:45.452366Z",
     "start_time": "2023-07-28T17:34:45.132550Z"
    }
   },
   "outputs": [
    {
     "data": {
      "text/html": [
       "<div>\n",
       "<style scoped>\n",
       "    .dataframe tbody tr th:only-of-type {\n",
       "        vertical-align: middle;\n",
       "    }\n",
       "\n",
       "    .dataframe tbody tr th {\n",
       "        vertical-align: top;\n",
       "    }\n",
       "\n",
       "    .dataframe thead th {\n",
       "        text-align: right;\n",
       "    }\n",
       "</style>\n",
       "<table border=\"1\" class=\"dataframe\">\n",
       "  <thead>\n",
       "    <tr style=\"text-align: right;\">\n",
       "      <th></th>\n",
       "      <th>dates</th>\n",
       "      <th>Factor A</th>\n",
       "      <th>Factor B</th>\n",
       "      <th>Factor C</th>\n",
       "      <th>Factor D</th>\n",
       "      <th>Factor E</th>\n",
       "      <th>Factor F</th>\n",
       "      <th>Factor G</th>\n",
       "      <th>Factor H</th>\n",
       "      <th>Factor I</th>\n",
       "      <th>Factor J</th>\n",
       "      <th>Factor K</th>\n",
       "      <th>Factor L</th>\n",
       "      <th>Factor M</th>\n",
       "      <th>Factor N</th>\n",
       "      <th>TGD Power Share price</th>\n",
       "    </tr>\n",
       "  </thead>\n",
       "  <tbody>\n",
       "    <tr>\n",
       "      <th>0</th>\n",
       "      <td>1700-01-01</td>\n",
       "      <td>502.52</td>\n",
       "      <td>498.78</td>\n",
       "      <td>493.98</td>\n",
       "      <td>947.6</td>\n",
       "      <td>505.24</td>\n",
       "      <td>79050</td>\n",
       "      <td>502.10</td>\n",
       "      <td>502.73</td>\n",
       "      <td>630.41</td>\n",
       "      <td>496.60</td>\n",
       "      <td>508.95</td>\n",
       "      <td>512.01</td>\n",
       "      <td>499.20</td>\n",
       "      <td>501.94</td>\n",
       "      <td>507</td>\n",
       "    </tr>\n",
       "    <tr>\n",
       "      <th>1</th>\n",
       "      <td>1700-01-02</td>\n",
       "      <td>503.33</td>\n",
       "      <td>495.09</td>\n",
       "      <td>496.93</td>\n",
       "      <td>928.6</td>\n",
       "      <td>506.21</td>\n",
       "      <td>31082</td>\n",
       "      <td>502.28</td>\n",
       "      <td>501.96</td>\n",
       "      <td>630.61</td>\n",
       "      <td>496.76</td>\n",
       "      <td>508.97</td>\n",
       "      <td>512.45</td>\n",
       "      <td>500.14</td>\n",
       "      <td>501.51</td>\n",
       "      <td>507</td>\n",
       "    </tr>\n",
       "    <tr>\n",
       "      <th>2</th>\n",
       "      <td>1700-01-03</td>\n",
       "      <td>500.62</td>\n",
       "      <td>493.71</td>\n",
       "      <td>504.75</td>\n",
       "      <td>935.5</td>\n",
       "      <td>505.51</td>\n",
       "      <td>19375</td>\n",
       "      <td>502.09</td>\n",
       "      <td>499.17</td>\n",
       "      <td>630.81</td>\n",
       "      <td>496.91</td>\n",
       "      <td>508.99</td>\n",
       "      <td>513.31</td>\n",
       "      <td>499.96</td>\n",
       "      <td>501.00</td>\n",
       "      <td>522</td>\n",
       "    </tr>\n",
       "    <tr>\n",
       "      <th>3</th>\n",
       "      <td>1700-01-04</td>\n",
       "      <td>502.08</td>\n",
       "      <td>492.98</td>\n",
       "      <td>502.20</td>\n",
       "      <td>923.5</td>\n",
       "      <td>505.25</td>\n",
       "      <td>22010</td>\n",
       "      <td>501.88</td>\n",
       "      <td>500.43</td>\n",
       "      <td>631.01</td>\n",
       "      <td>497.06</td>\n",
       "      <td>509.01</td>\n",
       "      <td>513.49</td>\n",
       "      <td>500.05</td>\n",
       "      <td>501.04</td>\n",
       "      <td>522</td>\n",
       "    </tr>\n",
       "    <tr>\n",
       "      <th>4</th>\n",
       "      <td>1700-01-05</td>\n",
       "      <td>502.81</td>\n",
       "      <td>493.23</td>\n",
       "      <td>499.57</td>\n",
       "      <td>918.1</td>\n",
       "      <td>504.86</td>\n",
       "      <td>26533</td>\n",
       "      <td>501.70</td>\n",
       "      <td>501.46</td>\n",
       "      <td>631.21</td>\n",
       "      <td>497.21</td>\n",
       "      <td>509.03</td>\n",
       "      <td>513.59</td>\n",
       "      <td>500.31</td>\n",
       "      <td>501.10</td>\n",
       "      <td>522</td>\n",
       "    </tr>\n",
       "  </tbody>\n",
       "</table>\n",
       "</div>"
      ],
      "text/plain": [
       "        dates  Factor A  Factor B  Factor C  Factor D  Factor E  Factor F  \\\n",
       "0  1700-01-01    502.52    498.78    493.98     947.6    505.24     79050   \n",
       "1  1700-01-02    503.33    495.09    496.93     928.6    506.21     31082   \n",
       "2  1700-01-03    500.62    493.71    504.75     935.5    505.51     19375   \n",
       "3  1700-01-04    502.08    492.98    502.20     923.5    505.25     22010   \n",
       "4  1700-01-05    502.81    493.23    499.57     918.1    504.86     26533   \n",
       "\n",
       "   Factor G  Factor H  Factor I  Factor J  Factor K  Factor L  Factor M  \\\n",
       "0    502.10    502.73    630.41    496.60    508.95    512.01    499.20   \n",
       "1    502.28    501.96    630.61    496.76    508.97    512.45    500.14   \n",
       "2    502.09    499.17    630.81    496.91    508.99    513.31    499.96   \n",
       "3    501.88    500.43    631.01    497.06    509.01    513.49    500.05   \n",
       "4    501.70    501.46    631.21    497.21    509.03    513.59    500.31   \n",
       "\n",
       "   Factor N  TGD Power Share price  \n",
       "0    501.94                    507  \n",
       "1    501.51                    507  \n",
       "2    501.00                    522  \n",
       "3    501.04                    522  \n",
       "4    501.10                    522  "
      ]
     },
     "execution_count": 5,
     "metadata": {},
     "output_type": "execute_result"
    }
   ],
   "source": [
    "Train_Data_C = Train_Data.drop([\"TGD Consultancy Share price\",\"TGD Automobiles Share price\"], axis= 1)\n",
    "Train_Data_C.head()"
   ]
  },
  {
   "cell_type": "markdown",
   "id": "3d20edbc",
   "metadata": {},
   "source": [
    "# Data Preprocessing\n",
    "\n",
    "# EDA"
   ]
  },
  {
   "cell_type": "code",
   "execution_count": 6,
   "id": "52886e22",
   "metadata": {
    "ExecuteTime": {
     "end_time": "2023-07-28T17:34:45.568300Z",
     "start_time": "2023-07-28T17:34:45.461362Z"
    }
   },
   "outputs": [
    {
     "data": {
      "text/plain": [
       "(161768, 18)"
      ]
     },
     "execution_count": 6,
     "metadata": {},
     "output_type": "execute_result"
    }
   ],
   "source": [
    "Train_Data.shape"
   ]
  },
  {
   "cell_type": "code",
   "execution_count": 7,
   "id": "61d67360",
   "metadata": {
    "ExecuteTime": {
     "end_time": "2023-07-28T17:34:45.607279Z",
     "start_time": "2023-07-28T17:34:45.573296Z"
    }
   },
   "outputs": [
    {
     "data": {
      "text/plain": [
       "(161768, 16)"
      ]
     },
     "execution_count": 7,
     "metadata": {},
     "output_type": "execute_result"
    }
   ],
   "source": [
    "Train_Data_A.shape"
   ]
  },
  {
   "cell_type": "code",
   "execution_count": 8,
   "id": "c531ce73",
   "metadata": {
    "ExecuteTime": {
     "end_time": "2023-07-28T17:34:45.699764Z",
     "start_time": "2023-07-28T17:34:45.612276Z"
    }
   },
   "outputs": [
    {
     "data": {
      "text/plain": [
       "(161768, 16)"
      ]
     },
     "execution_count": 8,
     "metadata": {},
     "output_type": "execute_result"
    }
   ],
   "source": [
    "Train_Data_B.shape"
   ]
  },
  {
   "cell_type": "code",
   "execution_count": 9,
   "id": "225bfafb",
   "metadata": {
    "ExecuteTime": {
     "end_time": "2023-07-28T17:34:45.760740Z",
     "start_time": "2023-07-28T17:34:45.704763Z"
    }
   },
   "outputs": [
    {
     "data": {
      "text/plain": [
       "(161768, 16)"
      ]
     },
     "execution_count": 9,
     "metadata": {},
     "output_type": "execute_result"
    }
   ],
   "source": [
    "Train_Data_C.shape"
   ]
  },
  {
   "cell_type": "code",
   "execution_count": 10,
   "id": "6c379974",
   "metadata": {
    "ExecuteTime": {
     "end_time": "2023-07-28T17:34:46.011098Z",
     "start_time": "2023-07-28T17:34:45.773235Z"
    },
    "scrolled": true
   },
   "outputs": [
    {
     "name": "stdout",
     "output_type": "stream",
     "text": [
      "<class 'pandas.core.frame.DataFrame'>\n",
      "RangeIndex: 161768 entries, 0 to 161767\n",
      "Data columns (total 16 columns):\n",
      " #   Column                       Non-Null Count   Dtype  \n",
      "---  ------                       --------------   -----  \n",
      " 0   dates                        161768 non-null  object \n",
      " 1   Factor A                     161768 non-null  float64\n",
      " 2   Factor B                     161768 non-null  float64\n",
      " 3   Factor C                     161768 non-null  float64\n",
      " 4   Factor D                     161768 non-null  float64\n",
      " 5   Factor E                     161768 non-null  float64\n",
      " 6   Factor F                     161768 non-null  int64  \n",
      " 7   Factor G                     161768 non-null  float64\n",
      " 8   Factor H                     161768 non-null  float64\n",
      " 9   Factor I                     161768 non-null  float64\n",
      " 10  Factor J                     161768 non-null  float64\n",
      " 11  Factor K                     161768 non-null  float64\n",
      " 12  Factor L                     161768 non-null  float64\n",
      " 13  Factor M                     161768 non-null  float64\n",
      " 14  Factor N                     161768 non-null  float64\n",
      " 15  TGD Consultancy Share price  161768 non-null  int64  \n",
      "dtypes: float64(13), int64(2), object(1)\n",
      "memory usage: 19.7+ MB\n"
     ]
    }
   ],
   "source": [
    "Train_Data_A.info()"
   ]
  },
  {
   "cell_type": "code",
   "execution_count": 11,
   "id": "89340e95",
   "metadata": {
    "ExecuteTime": {
     "end_time": "2023-07-28T17:34:46.072578Z",
     "start_time": "2023-07-28T17:34:46.015098Z"
    }
   },
   "outputs": [
    {
     "data": {
      "text/plain": [
       "dates                           object\n",
       "Factor A                       float64\n",
       "Factor B                       float64\n",
       "Factor C                       float64\n",
       "Factor D                       float64\n",
       "Factor E                       float64\n",
       "Factor F                         int64\n",
       "Factor G                       float64\n",
       "Factor H                       float64\n",
       "Factor I                       float64\n",
       "Factor J                       float64\n",
       "Factor K                       float64\n",
       "Factor L                       float64\n",
       "Factor M                       float64\n",
       "Factor N                       float64\n",
       "TGD Consultancy Share price      int64\n",
       "dtype: object"
      ]
     },
     "execution_count": 11,
     "metadata": {},
     "output_type": "execute_result"
    }
   ],
   "source": [
    "Train_Data_A.dtypes"
   ]
  },
  {
   "cell_type": "code",
   "execution_count": 12,
   "id": "bb2b3caf",
   "metadata": {
    "ExecuteTime": {
     "end_time": "2023-07-28T17:34:46.307444Z",
     "start_time": "2023-07-28T17:34:46.080572Z"
    }
   },
   "outputs": [
    {
     "data": {
      "text/plain": [
       "dates                          0\n",
       "Factor A                       0\n",
       "Factor B                       0\n",
       "Factor C                       0\n",
       "Factor D                       0\n",
       "Factor E                       0\n",
       "Factor F                       0\n",
       "Factor G                       0\n",
       "Factor H                       0\n",
       "Factor I                       0\n",
       "Factor J                       0\n",
       "Factor K                       0\n",
       "Factor L                       0\n",
       "Factor M                       0\n",
       "Factor N                       0\n",
       "TGD Consultancy Share price    0\n",
       "dtype: int64"
      ]
     },
     "execution_count": 12,
     "metadata": {},
     "output_type": "execute_result"
    }
   ],
   "source": [
    "Train_Data_A.isnull().sum()"
   ]
  },
  {
   "cell_type": "code",
   "execution_count": 13,
   "id": "a844a9da",
   "metadata": {
    "ExecuteTime": {
     "end_time": "2023-07-28T17:34:58.455271Z",
     "start_time": "2023-07-28T17:34:46.313440Z"
    }
   },
   "outputs": [
    {
     "data": {
      "text/plain": [
       "<AxesSubplot:>"
      ]
     },
     "execution_count": 13,
     "metadata": {},
     "output_type": "execute_result"
    },
    {
     "data": {
      "image/png": "[encoded data removed]",
      "text/plain": [
       "<Figure size 1800x1152 with 2 Axes>"
      ]
     },
     "metadata": {
      "needs_background": "light"
     },
     "output_type": "display_data"
    }
   ],
   "source": [
    "plt.figure(figsize=(25,16))\n",
    "sns.heatmap(Train_Data_A.corr(method = 'spearman'), fmt = '.1f',  annot = True, mask = np.triu(Train_Data_A.corr()))"
   ]
  },
  {
   "cell_type": "code",
   "execution_count": 14,
   "id": "6b087439",
   "metadata": {
    "ExecuteTime": {
     "end_time": "2023-07-28T17:34:58.534284Z",
     "start_time": "2023-07-28T17:34:58.468265Z"
    }
   },
   "outputs": [],
   "source": [
    "Train_Data_A = Train_Data_A.set_index('dates', append=False)"
   ]
  },
  {
   "cell_type": "code",
   "execution_count": 15,
   "id": "de220117",
   "metadata": {
    "ExecuteTime": {
     "end_time": "2023-07-28T17:34:58.596391Z",
     "start_time": "2023-07-28T17:34:58.549421Z"
    }
   },
   "outputs": [],
   "source": [
    "Train_Data_B = Train_Data_B.set_index('dates', append= False)"
   ]
  },
  {
   "cell_type": "code",
   "execution_count": 16,
   "id": "c9ab45d0",
   "metadata": {
    "ExecuteTime": {
     "end_time": "2023-07-28T17:34:58.675347Z",
     "start_time": "2023-07-28T17:34:58.618378Z"
    }
   },
   "outputs": [],
   "source": [
    "Train_Data_C = Train_Data_C.set_index('dates', append= False)"
   ]
  },
  {
   "cell_type": "code",
   "execution_count": 17,
   "id": "6f285119",
   "metadata": {
    "ExecuteTime": {
     "end_time": "2023-07-28T17:34:58.719426Z",
     "start_time": "2023-07-28T17:34:58.684342Z"
    }
   },
   "outputs": [
    {
     "data": {
      "text/plain": [
       "(161768, 15)"
      ]
     },
     "execution_count": 17,
     "metadata": {},
     "output_type": "execute_result"
    }
   ],
   "source": [
    "Train_Data_A.shape"
   ]
  },
  {
   "cell_type": "code",
   "execution_count": 18,
   "id": "c7991af0",
   "metadata": {
    "ExecuteTime": {
     "end_time": "2023-07-28T17:34:58.829365Z",
     "start_time": "2023-07-28T17:34:58.725426Z"
    }
   },
   "outputs": [
    {
     "data": {
      "text/html": [
       "<div>\n",
       "<style scoped>\n",
       "    .dataframe tbody tr th:only-of-type {\n",
       "        vertical-align: middle;\n",
       "    }\n",
       "\n",
       "    .dataframe tbody tr th {\n",
       "        vertical-align: top;\n",
       "    }\n",
       "\n",
       "    .dataframe thead th {\n",
       "        text-align: right;\n",
       "    }\n",
       "</style>\n",
       "<table border=\"1\" class=\"dataframe\">\n",
       "  <thead>\n",
       "    <tr style=\"text-align: right;\">\n",
       "      <th></th>\n",
       "      <th>Factor A</th>\n",
       "      <th>Factor B</th>\n",
       "      <th>Factor C</th>\n",
       "      <th>Factor D</th>\n",
       "      <th>Factor E</th>\n",
       "      <th>Factor F</th>\n",
       "      <th>Factor G</th>\n",
       "      <th>Factor H</th>\n",
       "      <th>Factor I</th>\n",
       "      <th>Factor J</th>\n",
       "      <th>Factor K</th>\n",
       "      <th>Factor L</th>\n",
       "      <th>Factor M</th>\n",
       "      <th>Factor N</th>\n",
       "      <th>TGD Consultancy Share price</th>\n",
       "    </tr>\n",
       "    <tr>\n",
       "      <th>dates</th>\n",
       "      <th></th>\n",
       "      <th></th>\n",
       "      <th></th>\n",
       "      <th></th>\n",
       "      <th></th>\n",
       "      <th></th>\n",
       "      <th></th>\n",
       "      <th></th>\n",
       "      <th></th>\n",
       "      <th></th>\n",
       "      <th></th>\n",
       "      <th></th>\n",
       "      <th></th>\n",
       "      <th></th>\n",
       "      <th></th>\n",
       "    </tr>\n",
       "  </thead>\n",
       "  <tbody>\n",
       "    <tr>\n",
       "      <th>1700-01-01</th>\n",
       "      <td>502.52</td>\n",
       "      <td>498.78</td>\n",
       "      <td>493.98</td>\n",
       "      <td>947.6</td>\n",
       "      <td>505.24</td>\n",
       "      <td>79050</td>\n",
       "      <td>502.10</td>\n",
       "      <td>502.73</td>\n",
       "      <td>630.41</td>\n",
       "      <td>496.60</td>\n",
       "      <td>508.95</td>\n",
       "      <td>512.01</td>\n",
       "      <td>499.20</td>\n",
       "      <td>501.94</td>\n",
       "      <td>519</td>\n",
       "    </tr>\n",
       "    <tr>\n",
       "      <th>1700-01-02</th>\n",
       "      <td>503.33</td>\n",
       "      <td>495.09</td>\n",
       "      <td>496.93</td>\n",
       "      <td>928.6</td>\n",
       "      <td>506.21</td>\n",
       "      <td>31082</td>\n",
       "      <td>502.28</td>\n",
       "      <td>501.96</td>\n",
       "      <td>630.61</td>\n",
       "      <td>496.76</td>\n",
       "      <td>508.97</td>\n",
       "      <td>512.45</td>\n",
       "      <td>500.14</td>\n",
       "      <td>501.51</td>\n",
       "      <td>518</td>\n",
       "    </tr>\n",
       "    <tr>\n",
       "      <th>1700-01-03</th>\n",
       "      <td>500.62</td>\n",
       "      <td>493.71</td>\n",
       "      <td>504.75</td>\n",
       "      <td>935.5</td>\n",
       "      <td>505.51</td>\n",
       "      <td>19375</td>\n",
       "      <td>502.09</td>\n",
       "      <td>499.17</td>\n",
       "      <td>630.81</td>\n",
       "      <td>496.91</td>\n",
       "      <td>508.99</td>\n",
       "      <td>513.31</td>\n",
       "      <td>499.96</td>\n",
       "      <td>501.00</td>\n",
       "      <td>523</td>\n",
       "    </tr>\n",
       "    <tr>\n",
       "      <th>1700-01-04</th>\n",
       "      <td>502.08</td>\n",
       "      <td>492.98</td>\n",
       "      <td>502.20</td>\n",
       "      <td>923.5</td>\n",
       "      <td>505.25</td>\n",
       "      <td>22010</td>\n",
       "      <td>501.88</td>\n",
       "      <td>500.43</td>\n",
       "      <td>631.01</td>\n",
       "      <td>497.06</td>\n",
       "      <td>509.01</td>\n",
       "      <td>513.49</td>\n",
       "      <td>500.05</td>\n",
       "      <td>501.04</td>\n",
       "      <td>522</td>\n",
       "    </tr>\n",
       "    <tr>\n",
       "      <th>1700-01-05</th>\n",
       "      <td>502.81</td>\n",
       "      <td>493.23</td>\n",
       "      <td>499.57</td>\n",
       "      <td>918.1</td>\n",
       "      <td>504.86</td>\n",
       "      <td>26533</td>\n",
       "      <td>501.70</td>\n",
       "      <td>501.46</td>\n",
       "      <td>631.21</td>\n",
       "      <td>497.21</td>\n",
       "      <td>509.03</td>\n",
       "      <td>513.59</td>\n",
       "      <td>500.31</td>\n",
       "      <td>501.10</td>\n",
       "      <td>522</td>\n",
       "    </tr>\n",
       "  </tbody>\n",
       "</table>\n",
       "</div>"
      ],
      "text/plain": [
       "            Factor A  Factor B  Factor C  Factor D  Factor E  Factor F  \\\n",
       "dates                                                                    \n",
       "1700-01-01    502.52    498.78    493.98     947.6    505.24     79050   \n",
       "1700-01-02    503.33    495.09    496.93     928.6    506.21     31082   \n",
       "1700-01-03    500.62    493.71    504.75     935.5    505.51     19375   \n",
       "1700-01-04    502.08    492.98    502.20     923.5    505.25     22010   \n",
       "1700-01-05    502.81    493.23    499.57     918.1    504.86     26533   \n",
       "\n",
       "            Factor G  Factor H  Factor I  Factor J  Factor K  Factor L  \\\n",
       "dates                                                                    \n",
       "1700-01-01    502.10    502.73    630.41    496.60    508.95    512.01   \n",
       "1700-01-02    502.28    501.96    630.61    496.76    508.97    512.45   \n",
       "1700-01-03    502.09    499.17    630.81    496.91    508.99    513.31   \n",
       "1700-01-04    501.88    500.43    631.01    497.06    509.01    513.49   \n",
       "1700-01-05    501.70    501.46    631.21    497.21    509.03    513.59   \n",
       "\n",
       "            Factor M  Factor N  TGD Consultancy Share price  \n",
       "dates                                                        \n",
       "1700-01-01    499.20    501.94                          519  \n",
       "1700-01-02    500.14    501.51                          518  \n",
       "1700-01-03    499.96    501.00                          523  \n",
       "1700-01-04    500.05    501.04                          522  \n",
       "1700-01-05    500.31    501.10                          522  "
      ]
     },
     "execution_count": 18,
     "metadata": {},
     "output_type": "execute_result"
    }
   ],
   "source": [
    "Train_Data_A.head()"
   ]
  },
  {
   "cell_type": "markdown",
   "id": "74db6fd1",
   "metadata": {},
   "source": [
    "# Seperating Feautres and Target Variable"
   ]
  },
  {
   "cell_type": "code",
   "execution_count": 19,
   "id": "1783e9ce",
   "metadata": {
    "ExecuteTime": {
     "end_time": "2023-07-28T17:34:58.875383Z",
     "start_time": "2023-07-28T17:34:58.834362Z"
    }
   },
   "outputs": [],
   "source": [
    "X1 = Train_Data_A.iloc[:,0:14]\n",
    "y1 = Train_Data_A.iloc[:,-1]"
   ]
  },
  {
   "cell_type": "code",
   "execution_count": 20,
   "id": "7cffa445",
   "metadata": {
    "ExecuteTime": {
     "end_time": "2023-07-28T17:34:59.017430Z",
     "start_time": "2023-07-28T17:34:58.883422Z"
    }
   },
   "outputs": [
    {
     "data": {
      "text/html": [
       "<div>\n",
       "<style scoped>\n",
       "    .dataframe tbody tr th:only-of-type {\n",
       "        vertical-align: middle;\n",
       "    }\n",
       "\n",
       "    .dataframe tbody tr th {\n",
       "        vertical-align: top;\n",
       "    }\n",
       "\n",
       "    .dataframe thead th {\n",
       "        text-align: right;\n",
       "    }\n",
       "</style>\n",
       "<table border=\"1\" class=\"dataframe\">\n",
       "  <thead>\n",
       "    <tr style=\"text-align: right;\">\n",
       "      <th></th>\n",
       "      <th>Factor A</th>\n",
       "      <th>Factor B</th>\n",
       "      <th>Factor C</th>\n",
       "      <th>Factor D</th>\n",
       "      <th>Factor E</th>\n",
       "      <th>Factor F</th>\n",
       "      <th>Factor G</th>\n",
       "      <th>Factor H</th>\n",
       "      <th>Factor I</th>\n",
       "      <th>Factor J</th>\n",
       "      <th>Factor K</th>\n",
       "      <th>Factor L</th>\n",
       "      <th>Factor M</th>\n",
       "      <th>Factor N</th>\n",
       "    </tr>\n",
       "    <tr>\n",
       "      <th>dates</th>\n",
       "      <th></th>\n",
       "      <th></th>\n",
       "      <th></th>\n",
       "      <th></th>\n",
       "      <th></th>\n",
       "      <th></th>\n",
       "      <th></th>\n",
       "      <th></th>\n",
       "      <th></th>\n",
       "      <th></th>\n",
       "      <th></th>\n",
       "      <th></th>\n",
       "      <th></th>\n",
       "      <th></th>\n",
       "    </tr>\n",
       "  </thead>\n",
       "  <tbody>\n",
       "    <tr>\n",
       "      <th>1700-01-01</th>\n",
       "      <td>502.52</td>\n",
       "      <td>498.78</td>\n",
       "      <td>493.98</td>\n",
       "      <td>947.6</td>\n",
       "      <td>505.24</td>\n",
       "      <td>79050</td>\n",
       "      <td>502.10</td>\n",
       "      <td>502.73</td>\n",
       "      <td>630.41</td>\n",
       "      <td>496.60</td>\n",
       "      <td>508.95</td>\n",
       "      <td>512.01</td>\n",
       "      <td>499.20</td>\n",
       "      <td>501.94</td>\n",
       "    </tr>\n",
       "    <tr>\n",
       "      <th>1700-01-02</th>\n",
       "      <td>503.33</td>\n",
       "      <td>495.09</td>\n",
       "      <td>496.93</td>\n",
       "      <td>928.6</td>\n",
       "      <td>506.21</td>\n",
       "      <td>31082</td>\n",
       "      <td>502.28</td>\n",
       "      <td>501.96</td>\n",
       "      <td>630.61</td>\n",
       "      <td>496.76</td>\n",
       "      <td>508.97</td>\n",
       "      <td>512.45</td>\n",
       "      <td>500.14</td>\n",
       "      <td>501.51</td>\n",
       "    </tr>\n",
       "    <tr>\n",
       "      <th>1700-01-03</th>\n",
       "      <td>500.62</td>\n",
       "      <td>493.71</td>\n",
       "      <td>504.75</td>\n",
       "      <td>935.5</td>\n",
       "      <td>505.51</td>\n",
       "      <td>19375</td>\n",
       "      <td>502.09</td>\n",
       "      <td>499.17</td>\n",
       "      <td>630.81</td>\n",
       "      <td>496.91</td>\n",
       "      <td>508.99</td>\n",
       "      <td>513.31</td>\n",
       "      <td>499.96</td>\n",
       "      <td>501.00</td>\n",
       "    </tr>\n",
       "    <tr>\n",
       "      <th>1700-01-04</th>\n",
       "      <td>502.08</td>\n",
       "      <td>492.98</td>\n",
       "      <td>502.20</td>\n",
       "      <td>923.5</td>\n",
       "      <td>505.25</td>\n",
       "      <td>22010</td>\n",
       "      <td>501.88</td>\n",
       "      <td>500.43</td>\n",
       "      <td>631.01</td>\n",
       "      <td>497.06</td>\n",
       "      <td>509.01</td>\n",
       "      <td>513.49</td>\n",
       "      <td>500.05</td>\n",
       "      <td>501.04</td>\n",
       "    </tr>\n",
       "    <tr>\n",
       "      <th>1700-01-05</th>\n",
       "      <td>502.81</td>\n",
       "      <td>493.23</td>\n",
       "      <td>499.57</td>\n",
       "      <td>918.1</td>\n",
       "      <td>504.86</td>\n",
       "      <td>26533</td>\n",
       "      <td>501.70</td>\n",
       "      <td>501.46</td>\n",
       "      <td>631.21</td>\n",
       "      <td>497.21</td>\n",
       "      <td>509.03</td>\n",
       "      <td>513.59</td>\n",
       "      <td>500.31</td>\n",
       "      <td>501.10</td>\n",
       "    </tr>\n",
       "  </tbody>\n",
       "</table>\n",
       "</div>"
      ],
      "text/plain": [
       "            Factor A  Factor B  Factor C  Factor D  Factor E  Factor F  \\\n",
       "dates                                                                    \n",
       "1700-01-01    502.52    498.78    493.98     947.6    505.24     79050   \n",
       "1700-01-02    503.33    495.09    496.93     928.6    506.21     31082   \n",
       "1700-01-03    500.62    493.71    504.75     935.5    505.51     19375   \n",
       "1700-01-04    502.08    492.98    502.20     923.5    505.25     22010   \n",
       "1700-01-05    502.81    493.23    499.57     918.1    504.86     26533   \n",
       "\n",
       "            Factor G  Factor H  Factor I  Factor J  Factor K  Factor L  \\\n",
       "dates                                                                    \n",
       "1700-01-01    502.10    502.73    630.41    496.60    508.95    512.01   \n",
       "1700-01-02    502.28    501.96    630.61    496.76    508.97    512.45   \n",
       "1700-01-03    502.09    499.17    630.81    496.91    508.99    513.31   \n",
       "1700-01-04    501.88    500.43    631.01    497.06    509.01    513.49   \n",
       "1700-01-05    501.70    501.46    631.21    497.21    509.03    513.59   \n",
       "\n",
       "            Factor M  Factor N  \n",
       "dates                           \n",
       "1700-01-01    499.20    501.94  \n",
       "1700-01-02    500.14    501.51  \n",
       "1700-01-03    499.96    501.00  \n",
       "1700-01-04    500.05    501.04  \n",
       "1700-01-05    500.31    501.10  "
      ]
     },
     "execution_count": 20,
     "metadata": {},
     "output_type": "execute_result"
    }
   ],
   "source": [
    "X1.head()"
   ]
  },
  {
   "cell_type": "code",
   "execution_count": 21,
   "id": "f1f24159",
   "metadata": {
    "ExecuteTime": {
     "end_time": "2023-07-28T17:34:59.127468Z",
     "start_time": "2023-07-28T17:34:59.023440Z"
    },
    "scrolled": true
   },
   "outputs": [
    {
     "data": {
      "text/plain": [
       "dates\n",
       "1700-01-01             519\n",
       "1700-01-02             518\n",
       "1700-01-03             523\n",
       "1700-01-04             522\n",
       "1700-01-05             522\n",
       "                      ... \n",
       "2142-11-23 00:00:00    498\n",
       "2142-11-24 00:00:00    502\n",
       "2142-11-25 00:00:00    508\n",
       "2142-11-26 00:00:00    507\n",
       "2142-11-27 00:00:00    499\n",
       "Name: TGD Consultancy Share price, Length: 161768, dtype: int64"
      ]
     },
     "execution_count": 21,
     "metadata": {},
     "output_type": "execute_result"
    }
   ],
   "source": [
    "y1"
   ]
  },
  {
   "cell_type": "markdown",
   "id": "9df87f23",
   "metadata": {},
   "source": [
    "# Train Test Split"
   ]
  },
  {
   "cell_type": "code",
   "execution_count": 22,
   "id": "05e3c8e3",
   "metadata": {
    "ExecuteTime": {
     "end_time": "2023-07-28T17:34:59.457530Z",
     "start_time": "2023-07-28T17:34:59.132466Z"
    }
   },
   "outputs": [],
   "source": [
    "X_train_A, X_test_A, y_train_A, y_test_A = train_test_split(X1, y1, test_size=0.2, random_state=42)"
   ]
  },
  {
   "cell_type": "code",
   "execution_count": 23,
   "id": "8a62175d",
   "metadata": {
    "ExecuteTime": {
     "end_time": "2023-07-28T17:34:59.473520Z",
     "start_time": "2023-07-28T17:34:59.463527Z"
    }
   },
   "outputs": [],
   "source": [
    "from sklearn.preprocessing import StandardScaler"
   ]
  },
  {
   "cell_type": "code",
   "execution_count": 24,
   "id": "7f1c33ab",
   "metadata": {
    "ExecuteTime": {
     "end_time": "2023-07-28T17:34:59.674047Z",
     "start_time": "2023-07-28T17:34:59.481516Z"
    },
    "scrolled": true
   },
   "outputs": [],
   "source": [
    "scaler = StandardScaler()\n",
    "X_train_A = scaler.fit_transform(X_train_A)\n",
    "X_test_A = scaler.transform(X_test_A)"
   ]
  },
  {
   "cell_type": "code",
   "execution_count": 25,
   "id": "3ec92a62",
   "metadata": {
    "ExecuteTime": {
     "end_time": "2023-07-28T17:35:00.791413Z",
     "start_time": "2023-07-28T17:34:59.682040Z"
    }
   },
   "outputs": [],
   "source": [
    "from sklearn import preprocessing, model_selection, metrics\n",
    "from sklearn.linear_model import Ridge, Lasso\n",
    "from sklearn.ensemble import RandomForestRegressor, GradientBoostingRegressor, ExtraTreesRegressor, IsolationForest\n",
    "from sklearn.neural_network import MLPRegressor\n",
    "import xgboost as xgb\n",
    "from sklearn import neighbors\n",
    "from sklearn.svm import SVR\n",
    "\n",
    "import time\n",
    "from math import sqrt\n",
    "from sklearn.metrics import mean_squared_error\n",
    "\n",
    "from sklearn.model_selection import train_test_split\n",
    "from sklearn.model_selection import GridSearchCV, KFold\n"
   ]
  },
  {
   "cell_type": "markdown",
   "id": "974018ac",
   "metadata": {},
   "source": [
    "# Model Training & Model Testing"
   ]
  },
  {
   "cell_type": "code",
   "execution_count": 26,
   "id": "3848329e",
   "metadata": {
    "ExecuteTime": {
     "end_time": "2023-07-28T17:35:00.819397Z",
     "start_time": "2023-07-28T17:35:00.796411Z"
    },
    "scrolled": true
   },
   "outputs": [],
   "source": [
    "models = [['Linear Regression', LinearRegression()],['Lasso', Lasso()],['Ridge', Ridge()],['Random Forest',RandomForestRegressor()],\n",
    "          ['Extra Tree Regressor',ExtraTreesRegressor()],['XG Boost',xgb.XGBRegressor()]]"
   ]
  },
  {
   "cell_type": "markdown",
   "id": "cf263924",
   "metadata": {},
   "source": [
    "# For TGD Consultancy Share price"
   ]
  },
  {
   "cell_type": "code",
   "execution_count": 27,
   "id": "458d9b91",
   "metadata": {
    "ExecuteTime": {
     "end_time": "2023-07-28T17:45:45.727299Z",
     "start_time": "2023-07-28T17:35:00.828393Z"
    }
   },
   "outputs": [],
   "source": [
    "model_data_A = []\n",
    "for name,curr_model_A in models :\n",
    "    curr_model_A.fit(X_train_A,y_train_A)\n",
    "    curr_model_data_A = {}\n",
    "    curr_model_data_A[\"Name\"] = name\n",
    "    curr_model_data_A[\"Train R2 Score\"] = metrics.r2_score(y_train_A,curr_model_A.predict(X_train_A))\n",
    "    curr_model_data_A[\"Validate R2 Score\"] = metrics.r2_score(y_test_A,curr_model_A.predict(X_test_A))\n",
    "    curr_model_data_A[\"Test RMSE Score\"] = (mean_squared_error(y_test_A,curr_model_A.predict(X_test_A)))\n",
    "    model_data_A.append(curr_model_data_A)"
   ]
  },
  {
   "cell_type": "code",
   "execution_count": 28,
   "id": "ad9987d6",
   "metadata": {
    "ExecuteTime": {
     "end_time": "2023-07-28T17:45:46.330979Z",
     "start_time": "2023-07-28T17:45:45.825616Z"
    }
   },
   "outputs": [
    {
     "data": {
      "text/html": [
       "<div>\n",
       "<style scoped>\n",
       "    .dataframe tbody tr th:only-of-type {\n",
       "        vertical-align: middle;\n",
       "    }\n",
       "\n",
       "    .dataframe tbody tr th {\n",
       "        vertical-align: top;\n",
       "    }\n",
       "\n",
       "    .dataframe thead th {\n",
       "        text-align: right;\n",
       "    }\n",
       "</style>\n",
       "<table border=\"1\" class=\"dataframe\">\n",
       "  <thead>\n",
       "    <tr style=\"text-align: right;\">\n",
       "      <th></th>\n",
       "      <th>Name</th>\n",
       "      <th>Train R2 Score</th>\n",
       "      <th>Validate R2 Score</th>\n",
       "      <th>Test RMSE Score</th>\n",
       "    </tr>\n",
       "  </thead>\n",
       "  <tbody>\n",
       "    <tr>\n",
       "      <th>1</th>\n",
       "      <td>Lasso</td>\n",
       "      <td>0.000000</td>\n",
       "      <td>-0.000005</td>\n",
       "      <td>371.244225</td>\n",
       "    </tr>\n",
       "    <tr>\n",
       "      <th>2</th>\n",
       "      <td>Ridge</td>\n",
       "      <td>0.010452</td>\n",
       "      <td>0.014582</td>\n",
       "      <td>365.828978</td>\n",
       "    </tr>\n",
       "    <tr>\n",
       "      <th>0</th>\n",
       "      <td>Linear Regression</td>\n",
       "      <td>0.013447</td>\n",
       "      <td>0.016275</td>\n",
       "      <td>365.200371</td>\n",
       "    </tr>\n",
       "    <tr>\n",
       "      <th>5</th>\n",
       "      <td>XG Boost</td>\n",
       "      <td>0.506439</td>\n",
       "      <td>0.385042</td>\n",
       "      <td>228.298406</td>\n",
       "    </tr>\n",
       "    <tr>\n",
       "      <th>3</th>\n",
       "      <td>Random Forest</td>\n",
       "      <td>0.919856</td>\n",
       "      <td>0.652302</td>\n",
       "      <td>129.080046</td>\n",
       "    </tr>\n",
       "    <tr>\n",
       "      <th>4</th>\n",
       "      <td>Extra Tree Regressor</td>\n",
       "      <td>0.965975</td>\n",
       "      <td>0.670067</td>\n",
       "      <td>122.484988</td>\n",
       "    </tr>\n",
       "  </tbody>\n",
       "</table>\n",
       "</div>"
      ],
      "text/plain": [
       "                   Name  Train R2 Score  Validate R2 Score  Test RMSE Score\n",
       "1                 Lasso        0.000000          -0.000005       371.244225\n",
       "2                 Ridge        0.010452           0.014582       365.828978\n",
       "0     Linear Regression        0.013447           0.016275       365.200371\n",
       "5              XG Boost        0.506439           0.385042       228.298406\n",
       "3         Random Forest        0.919856           0.652302       129.080046\n",
       "4  Extra Tree Regressor        0.965975           0.670067       122.484988"
      ]
     },
     "execution_count": 28,
     "metadata": {},
     "output_type": "execute_result"
    }
   ],
   "source": [
    "modelComparison_A = pd.DataFrame(model_data_A)\n",
    "modelComparison_A = modelComparison_A.sort_values(by=['Train R2 Score', 'Validate R2 Score', 'Test RMSE Score'])\n",
    "modelComparison_A"
   ]
  },
  {
   "cell_type": "markdown",
   "id": "dac8356b",
   "metadata": {
    "ExecuteTime": {
     "end_time": "2023-07-16T10:23:40.839847Z",
     "start_time": "2023-07-16T10:23:40.802864Z"
    }
   },
   "source": [
    "By Comparing all the models (Linear Regression , Lasso, Ridge, Decision Tree Regressor, Extra Tree Regressor, XG Boost)\n",
    "I found Extra Tree Regressor is the best model to predict as RMSE Score is 112.50309( Lower the RMSE, Better the Model)\n",
    "and R2 Score is 0.66 (66%)"
   ]
  },
  {
   "cell_type": "code",
   "execution_count": 29,
   "id": "c76dc3a1",
   "metadata": {
    "ExecuteTime": {
     "end_time": "2023-07-28T17:46:00.958186Z",
     "start_time": "2023-07-28T17:45:46.340951Z"
    }
   },
   "outputs": [
    {
     "data": {
      "text/html": [
       "<div>\n",
       "<style scoped>\n",
       "    .dataframe tbody tr th:only-of-type {\n",
       "        vertical-align: middle;\n",
       "    }\n",
       "\n",
       "    .dataframe tbody tr th {\n",
       "        vertical-align: top;\n",
       "    }\n",
       "\n",
       "    .dataframe thead th {\n",
       "        text-align: right;\n",
       "    }\n",
       "</style>\n",
       "<table border=\"1\" class=\"dataframe\">\n",
       "  <thead>\n",
       "    <tr style=\"text-align: right;\">\n",
       "      <th></th>\n",
       "      <th>dates</th>\n",
       "      <th>Factor A</th>\n",
       "      <th>Factor B</th>\n",
       "      <th>Factor C</th>\n",
       "      <th>Factor D</th>\n",
       "      <th>Factor E</th>\n",
       "      <th>Factor F</th>\n",
       "      <th>Factor G</th>\n",
       "      <th>Factor H</th>\n",
       "      <th>Factor I</th>\n",
       "      <th>Factor J</th>\n",
       "      <th>Factor K</th>\n",
       "      <th>Factor L</th>\n",
       "      <th>Factor M</th>\n",
       "      <th>Factor N</th>\n",
       "    </tr>\n",
       "  </thead>\n",
       "  <tbody>\n",
       "    <tr>\n",
       "      <th>0</th>\n",
       "      <td>2142-11-28</td>\n",
       "      <td>10499.99</td>\n",
       "      <td>10499.99</td>\n",
       "      <td>10499.99</td>\n",
       "      <td>100499.9</td>\n",
       "      <td>1499.99</td>\n",
       "      <td>10000500</td>\n",
       "      <td>599.99</td>\n",
       "      <td>1499.99</td>\n",
       "      <td>10499.99</td>\n",
       "      <td>10499.99</td>\n",
       "      <td>10499.99</td>\n",
       "      <td>10499.99</td>\n",
       "      <td>10499.99</td>\n",
       "      <td>10499.99</td>\n",
       "    </tr>\n",
       "    <tr>\n",
       "      <th>1</th>\n",
       "      <td>2142-11-29</td>\n",
       "      <td>10499.99</td>\n",
       "      <td>10499.99</td>\n",
       "      <td>10499.99</td>\n",
       "      <td>100499.9</td>\n",
       "      <td>1499.99</td>\n",
       "      <td>10000500</td>\n",
       "      <td>599.99</td>\n",
       "      <td>1499.99</td>\n",
       "      <td>10499.99</td>\n",
       "      <td>10499.99</td>\n",
       "      <td>10499.99</td>\n",
       "      <td>10499.99</td>\n",
       "      <td>10499.99</td>\n",
       "      <td>10499.99</td>\n",
       "    </tr>\n",
       "    <tr>\n",
       "      <th>2</th>\n",
       "      <td>2142-11-30</td>\n",
       "      <td>10499.99</td>\n",
       "      <td>10499.99</td>\n",
       "      <td>10499.99</td>\n",
       "      <td>100499.9</td>\n",
       "      <td>1499.99</td>\n",
       "      <td>10000500</td>\n",
       "      <td>599.99</td>\n",
       "      <td>1499.99</td>\n",
       "      <td>10499.99</td>\n",
       "      <td>10499.99</td>\n",
       "      <td>10499.99</td>\n",
       "      <td>10499.99</td>\n",
       "      <td>10499.99</td>\n",
       "      <td>10499.99</td>\n",
       "    </tr>\n",
       "    <tr>\n",
       "      <th>3</th>\n",
       "      <td>2142-12-01</td>\n",
       "      <td>10499.99</td>\n",
       "      <td>10499.99</td>\n",
       "      <td>10499.99</td>\n",
       "      <td>100499.9</td>\n",
       "      <td>1499.99</td>\n",
       "      <td>10000500</td>\n",
       "      <td>599.99</td>\n",
       "      <td>1499.99</td>\n",
       "      <td>10499.99</td>\n",
       "      <td>10499.99</td>\n",
       "      <td>10499.99</td>\n",
       "      <td>10499.99</td>\n",
       "      <td>10499.99</td>\n",
       "      <td>10499.99</td>\n",
       "    </tr>\n",
       "    <tr>\n",
       "      <th>4</th>\n",
       "      <td>2142-12-02</td>\n",
       "      <td>503.94</td>\n",
       "      <td>497.55</td>\n",
       "      <td>499.63</td>\n",
       "      <td>894.7</td>\n",
       "      <td>502.82</td>\n",
       "      <td>94705</td>\n",
       "      <td>500.88</td>\n",
       "      <td>499.93</td>\n",
       "      <td>736.35</td>\n",
       "      <td>596.33</td>\n",
       "      <td>498.68</td>\n",
       "      <td>514.90</td>\n",
       "      <td>499.69</td>\n",
       "      <td>500.44</td>\n",
       "    </tr>\n",
       "  </tbody>\n",
       "</table>\n",
       "</div>"
      ],
      "text/plain": [
       "       dates  Factor A  Factor B  Factor C  Factor D  Factor E  Factor F  \\\n",
       "0 2142-11-28  10499.99  10499.99  10499.99  100499.9   1499.99  10000500   \n",
       "1 2142-11-29  10499.99  10499.99  10499.99  100499.9   1499.99  10000500   \n",
       "2 2142-11-30  10499.99  10499.99  10499.99  100499.9   1499.99  10000500   \n",
       "3 2142-12-01  10499.99  10499.99  10499.99  100499.9   1499.99  10000500   \n",
       "4 2142-12-02    503.94    497.55    499.63     894.7    502.82     94705   \n",
       "\n",
       "   Factor G  Factor H  Factor I  Factor J  Factor K  Factor L  Factor M  \\\n",
       "0    599.99   1499.99  10499.99  10499.99  10499.99  10499.99  10499.99   \n",
       "1    599.99   1499.99  10499.99  10499.99  10499.99  10499.99  10499.99   \n",
       "2    599.99   1499.99  10499.99  10499.99  10499.99  10499.99  10499.99   \n",
       "3    599.99   1499.99  10499.99  10499.99  10499.99  10499.99  10499.99   \n",
       "4    500.88    499.93    736.35    596.33    498.68    514.90    499.69   \n",
       "\n",
       "   Factor N  \n",
       "0  10499.99  \n",
       "1  10499.99  \n",
       "2  10499.99  \n",
       "3  10499.99  \n",
       "4    500.44  "
      ]
     },
     "execution_count": 29,
     "metadata": {},
     "output_type": "execute_result"
    }
   ],
   "source": [
    "Test_Data_A = pd.read_excel(\"Test_Data.xlsx\")\n",
    "Test_Data_A.head()"
   ]
  },
  {
   "cell_type": "code",
   "execution_count": 30,
   "id": "cb572528",
   "metadata": {
    "ExecuteTime": {
     "end_time": "2023-07-28T17:46:00.974176Z",
     "start_time": "2023-07-28T17:46:00.963184Z"
    }
   },
   "outputs": [
    {
     "data": {
      "text/plain": [
       "(30000, 15)"
      ]
     },
     "execution_count": 30,
     "metadata": {},
     "output_type": "execute_result"
    }
   ],
   "source": [
    "Test_Data_A.shape"
   ]
  },
  {
   "cell_type": "code",
   "execution_count": 31,
   "id": "587578cf",
   "metadata": {
    "ExecuteTime": {
     "end_time": "2023-07-28T17:46:01.037468Z",
     "start_time": "2023-07-28T17:46:00.979173Z"
    }
   },
   "outputs": [],
   "source": [
    "Test_Data_A = Test_Data_A.set_index('dates', append=False)"
   ]
  },
  {
   "cell_type": "code",
   "execution_count": 32,
   "id": "c5e80c4a",
   "metadata": {
    "ExecuteTime": {
     "end_time": "2023-07-28T17:46:01.098984Z",
     "start_time": "2023-07-28T17:46:01.042429Z"
    }
   },
   "outputs": [
    {
     "data": {
      "text/html": [
       "<div>\n",
       "<style scoped>\n",
       "    .dataframe tbody tr th:only-of-type {\n",
       "        vertical-align: middle;\n",
       "    }\n",
       "\n",
       "    .dataframe tbody tr th {\n",
       "        vertical-align: top;\n",
       "    }\n",
       "\n",
       "    .dataframe thead th {\n",
       "        text-align: right;\n",
       "    }\n",
       "</style>\n",
       "<table border=\"1\" class=\"dataframe\">\n",
       "  <thead>\n",
       "    <tr style=\"text-align: right;\">\n",
       "      <th></th>\n",
       "      <th>Factor A</th>\n",
       "      <th>Factor B</th>\n",
       "      <th>Factor C</th>\n",
       "      <th>Factor D</th>\n",
       "      <th>Factor E</th>\n",
       "      <th>Factor F</th>\n",
       "      <th>Factor G</th>\n",
       "      <th>Factor H</th>\n",
       "      <th>Factor I</th>\n",
       "      <th>Factor J</th>\n",
       "      <th>Factor K</th>\n",
       "      <th>Factor L</th>\n",
       "      <th>Factor M</th>\n",
       "      <th>Factor N</th>\n",
       "    </tr>\n",
       "    <tr>\n",
       "      <th>dates</th>\n",
       "      <th></th>\n",
       "      <th></th>\n",
       "      <th></th>\n",
       "      <th></th>\n",
       "      <th></th>\n",
       "      <th></th>\n",
       "      <th></th>\n",
       "      <th></th>\n",
       "      <th></th>\n",
       "      <th></th>\n",
       "      <th></th>\n",
       "      <th></th>\n",
       "      <th></th>\n",
       "      <th></th>\n",
       "    </tr>\n",
       "  </thead>\n",
       "  <tbody>\n",
       "    <tr>\n",
       "      <th>2142-11-28</th>\n",
       "      <td>10499.99</td>\n",
       "      <td>10499.99</td>\n",
       "      <td>10499.99</td>\n",
       "      <td>100499.9</td>\n",
       "      <td>1499.99</td>\n",
       "      <td>10000500</td>\n",
       "      <td>599.99</td>\n",
       "      <td>1499.99</td>\n",
       "      <td>10499.99</td>\n",
       "      <td>10499.99</td>\n",
       "      <td>10499.99</td>\n",
       "      <td>10499.99</td>\n",
       "      <td>10499.99</td>\n",
       "      <td>10499.99</td>\n",
       "    </tr>\n",
       "    <tr>\n",
       "      <th>2142-11-29</th>\n",
       "      <td>10499.99</td>\n",
       "      <td>10499.99</td>\n",
       "      <td>10499.99</td>\n",
       "      <td>100499.9</td>\n",
       "      <td>1499.99</td>\n",
       "      <td>10000500</td>\n",
       "      <td>599.99</td>\n",
       "      <td>1499.99</td>\n",
       "      <td>10499.99</td>\n",
       "      <td>10499.99</td>\n",
       "      <td>10499.99</td>\n",
       "      <td>10499.99</td>\n",
       "      <td>10499.99</td>\n",
       "      <td>10499.99</td>\n",
       "    </tr>\n",
       "    <tr>\n",
       "      <th>2142-11-30</th>\n",
       "      <td>10499.99</td>\n",
       "      <td>10499.99</td>\n",
       "      <td>10499.99</td>\n",
       "      <td>100499.9</td>\n",
       "      <td>1499.99</td>\n",
       "      <td>10000500</td>\n",
       "      <td>599.99</td>\n",
       "      <td>1499.99</td>\n",
       "      <td>10499.99</td>\n",
       "      <td>10499.99</td>\n",
       "      <td>10499.99</td>\n",
       "      <td>10499.99</td>\n",
       "      <td>10499.99</td>\n",
       "      <td>10499.99</td>\n",
       "    </tr>\n",
       "    <tr>\n",
       "      <th>2142-12-01</th>\n",
       "      <td>10499.99</td>\n",
       "      <td>10499.99</td>\n",
       "      <td>10499.99</td>\n",
       "      <td>100499.9</td>\n",
       "      <td>1499.99</td>\n",
       "      <td>10000500</td>\n",
       "      <td>599.99</td>\n",
       "      <td>1499.99</td>\n",
       "      <td>10499.99</td>\n",
       "      <td>10499.99</td>\n",
       "      <td>10499.99</td>\n",
       "      <td>10499.99</td>\n",
       "      <td>10499.99</td>\n",
       "      <td>10499.99</td>\n",
       "    </tr>\n",
       "    <tr>\n",
       "      <th>2142-12-02</th>\n",
       "      <td>503.94</td>\n",
       "      <td>497.55</td>\n",
       "      <td>499.63</td>\n",
       "      <td>894.7</td>\n",
       "      <td>502.82</td>\n",
       "      <td>94705</td>\n",
       "      <td>500.88</td>\n",
       "      <td>499.93</td>\n",
       "      <td>736.35</td>\n",
       "      <td>596.33</td>\n",
       "      <td>498.68</td>\n",
       "      <td>514.90</td>\n",
       "      <td>499.69</td>\n",
       "      <td>500.44</td>\n",
       "    </tr>\n",
       "  </tbody>\n",
       "</table>\n",
       "</div>"
      ],
      "text/plain": [
       "            Factor A  Factor B  Factor C  Factor D  Factor E  Factor F  \\\n",
       "dates                                                                    \n",
       "2142-11-28  10499.99  10499.99  10499.99  100499.9   1499.99  10000500   \n",
       "2142-11-29  10499.99  10499.99  10499.99  100499.9   1499.99  10000500   \n",
       "2142-11-30  10499.99  10499.99  10499.99  100499.9   1499.99  10000500   \n",
       "2142-12-01  10499.99  10499.99  10499.99  100499.9   1499.99  10000500   \n",
       "2142-12-02    503.94    497.55    499.63     894.7    502.82     94705   \n",
       "\n",
       "            Factor G  Factor H  Factor I  Factor J  Factor K  Factor L  \\\n",
       "dates                                                                    \n",
       "2142-11-28    599.99   1499.99  10499.99  10499.99  10499.99  10499.99   \n",
       "2142-11-29    599.99   1499.99  10499.99  10499.99  10499.99  10499.99   \n",
       "2142-11-30    599.99   1499.99  10499.99  10499.99  10499.99  10499.99   \n",
       "2142-12-01    599.99   1499.99  10499.99  10499.99  10499.99  10499.99   \n",
       "2142-12-02    500.88    499.93    736.35    596.33    498.68    514.90   \n",
       "\n",
       "            Factor M  Factor N  \n",
       "dates                           \n",
       "2142-11-28  10499.99  10499.99  \n",
       "2142-11-29  10499.99  10499.99  \n",
       "2142-11-30  10499.99  10499.99  \n",
       "2142-12-01  10499.99  10499.99  \n",
       "2142-12-02    499.69    500.44  "
      ]
     },
     "execution_count": 32,
     "metadata": {},
     "output_type": "execute_result"
    }
   ],
   "source": [
    "Test_Data_A.head()"
   ]
  },
  {
   "cell_type": "code",
   "execution_count": 33,
   "id": "5535e44d",
   "metadata": {
    "ExecuteTime": {
     "end_time": "2023-07-28T17:46:01.146401Z",
     "start_time": "2023-07-28T17:46:01.105986Z"
    }
   },
   "outputs": [
    {
     "data": {
      "text/plain": [
       "(30000, 14)"
      ]
     },
     "execution_count": 33,
     "metadata": {},
     "output_type": "execute_result"
    }
   ],
   "source": [
    "Test_Data_A.shape"
   ]
  },
  {
   "cell_type": "code",
   "execution_count": 34,
   "id": "0a869497",
   "metadata": {
    "ExecuteTime": {
     "end_time": "2023-07-28T17:46:01.178403Z",
     "start_time": "2023-07-28T17:46:01.150399Z"
    }
   },
   "outputs": [],
   "source": [
    "Final_Pred_A = ExtraTreesRegressor(n_estimators=200, max_depth=10)"
   ]
  },
  {
   "cell_type": "code",
   "execution_count": 35,
   "id": "7520d889",
   "metadata": {
    "ExecuteTime": {
     "end_time": "2023-07-28T17:46:44.188150Z",
     "start_time": "2023-07-28T17:46:01.183398Z"
    }
   },
   "outputs": [
    {
     "data": {
      "text/html": [
       "<style>#sk-container-id-1 {color: black;background-color: white;}#sk-container-id-1 pre{padding: 0;}#sk-container-id-1 div.sk-toggleable {background-color: white;}#sk-container-id-1 label.sk-toggleable__label {cursor: pointer;display: block;width: 100%;margin-bottom: 0;padding: 0.3em;box-sizing: border-box;text-align: center;}#sk-container-id-1 label.sk-toggleable__label-arrow:before {content: \"▸\";float: left;margin-right: 0.25em;color: #696969;}#sk-container-id-1 label.sk-toggleable__label-arrow:hover:before {color: black;}#sk-container-id-1 div.sk-estimator:hover label.sk-toggleable__label-arrow:before {color: black;}#sk-container-id-1 div.sk-toggleable__content {max-height: 0;max-width: 0;overflow: hidden;text-align: left;background-color: #f0f8ff;}#sk-container-id-1 div.sk-toggleable__content pre {margin: 0.2em;color: black;border-radius: 0.25em;background-color: #f0f8ff;}#sk-container-id-1 input.sk-toggleable__control:checked~div.sk-toggleable__content {max-height: 200px;max-width: 100%;overflow: auto;}#sk-container-id-1 input.sk-toggleable__control:checked~label.sk-toggleable__label-arrow:before {content: \"▾\";}#sk-container-id-1 div.sk-estimator input.sk-toggleable__control:checked~label.sk-toggleable__label {background-color: #d4ebff;}#sk-container-id-1 div.sk-label input.sk-toggleable__control:checked~label.sk-toggleable__label {background-color: #d4ebff;}#sk-container-id-1 input.sk-hidden--visually {border: 0;clip: rect(1px 1px 1px 1px);clip: rect(1px, 1px, 1px, 1px);height: 1px;margin: -1px;overflow: hidden;padding: 0;position: absolute;width: 1px;}#sk-container-id-1 div.sk-estimator {font-family: monospace;background-color: #f0f8ff;border: 1px dotted black;border-radius: 0.25em;box-sizing: border-box;margin-bottom: 0.5em;}#sk-container-id-1 div.sk-estimator:hover {background-color: #d4ebff;}#sk-container-id-1 div.sk-parallel-item::after {content: \"\";width: 100%;border-bottom: 1px solid gray;flex-grow: 1;}#sk-container-id-1 div.sk-label:hover label.sk-toggleable__label {background-color: #d4ebff;}#sk-container-id-1 div.sk-serial::before {content: \"\";position: absolute;border-left: 1px solid gray;box-sizing: border-box;top: 0;bottom: 0;left: 50%;z-index: 0;}#sk-container-id-1 div.sk-serial {display: flex;flex-direction: column;align-items: center;background-color: white;padding-right: 0.2em;padding-left: 0.2em;position: relative;}#sk-container-id-1 div.sk-item {position: relative;z-index: 1;}#sk-container-id-1 div.sk-parallel {display: flex;align-items: stretch;justify-content: center;background-color: white;position: relative;}#sk-container-id-1 div.sk-item::before, #sk-container-id-1 div.sk-parallel-item::before {content: \"\";position: absolute;border-left: 1px solid gray;box-sizing: border-box;top: 0;bottom: 0;left: 50%;z-index: -1;}#sk-container-id-1 div.sk-parallel-item {display: flex;flex-direction: column;z-index: 1;position: relative;background-color: white;}#sk-container-id-1 div.sk-parallel-item:first-child::after {align-self: flex-end;width: 50%;}#sk-container-id-1 div.sk-parallel-item:last-child::after {align-self: flex-start;width: 50%;}#sk-container-id-1 div.sk-parallel-item:only-child::after {width: 0;}#sk-container-id-1 div.sk-dashed-wrapped {border: 1px dashed gray;margin: 0 0.4em 0.5em 0.4em;box-sizing: border-box;padding-bottom: 0.4em;background-color: white;}#sk-container-id-1 div.sk-label label {font-family: monospace;font-weight: bold;display: inline-block;line-height: 1.2em;}#sk-container-id-1 div.sk-label-container {text-align: center;}#sk-container-id-1 div.sk-container {/* jupyter's `normalize.less` sets `[hidden] { display: none; }` but bootstrap.min.css set `[hidden] { display: none !important; }` so we also need the `!important` here to be able to override the default hidden behavior on the sphinx rendered scikit-learn.org. See: https://github.com/scikit-learn/scikit-learn/issues/21755 */display: inline-block !important;position: relative;}#sk-container-id-1 div.sk-text-repr-fallback {display: none;}</style><div id=\"sk-container-id-1\" class=\"sk-top-container\"><div class=\"sk-text-repr-fallback\"><pre>ExtraTreesRegressor(max_depth=10, n_estimators=200)</pre><b>In a Jupyter environment, please rerun this cell to show the HTML representation or trust the notebook. <br />On GitHub, the HTML representation is unable to render, please try loading this page with nbviewer.org.</b></div><div class=\"sk-container\" hidden><div class=\"sk-item\"><div class=\"sk-estimator sk-toggleable\"><input class=\"sk-toggleable__control sk-hidden--visually\" id=\"sk-estimator-id-1\" type=\"checkbox\" checked><label for=\"sk-estimator-id-1\" class=\"sk-toggleable__label sk-toggleable__label-arrow\">ExtraTreesRegressor</label><div class=\"sk-toggleable__content\"><pre>ExtraTreesRegressor(max_depth=10, n_estimators=200)</pre></div></div></div></div></div>"
      ],
      "text/plain": [
       "ExtraTreesRegressor(max_depth=10, n_estimators=200)"
      ]
     },
     "execution_count": 35,
     "metadata": {},
     "output_type": "execute_result"
    }
   ],
   "source": [
    "Final_Pred_A.fit(X_train_A, y_train_A)"
   ]
  },
  {
   "cell_type": "code",
   "execution_count": 36,
   "id": "72946639",
   "metadata": {
    "ExecuteTime": {
     "end_time": "2023-07-28T17:46:44.854766Z",
     "start_time": "2023-07-28T17:46:44.194147Z"
    },
    "scrolled": false
   },
   "outputs": [
    {
     "name": "stderr",
     "output_type": "stream",
     "text": [
      "C:\\Users\\DELL\\anaconda3\\lib\\site-packages\\sklearn\\base.py:443: UserWarning: X has feature names, but ExtraTreesRegressor was fitted without feature names\n",
      "  warnings.warn(\n"
     ]
    }
   ],
   "source": [
    "y_pred_A = Final_Pred_A.predict(Test_Data_A)"
   ]
  },
  {
   "cell_type": "code",
   "execution_count": 37,
   "id": "dcbd67a6",
   "metadata": {
    "ExecuteTime": {
     "end_time": "2023-07-28T17:46:44.885748Z",
     "start_time": "2023-07-28T17:46:44.859764Z"
    }
   },
   "outputs": [
    {
     "data": {
      "text/plain": [
       "array([511.3278956, 511.3278956, 511.3278956, ..., 511.3278956,\n",
       "       511.3278956, 511.3278956])"
      ]
     },
     "execution_count": 37,
     "metadata": {},
     "output_type": "execute_result"
    }
   ],
   "source": [
    "y_pred_A"
   ]
  },
  {
   "cell_type": "code",
   "execution_count": 38,
   "id": "6f31f60e",
   "metadata": {
    "ExecuteTime": {
     "end_time": "2023-07-28T17:46:47.899023Z",
     "start_time": "2023-07-28T17:46:44.890747Z"
    },
    "scrolled": true
   },
   "outputs": [
    {
     "ename": "AttributeError",
     "evalue": "'numpy.ndarray' object has no attribute 'to_'",
     "output_type": "error",
     "traceback": [
      "\u001b[1;31m---------------------------------------------------------------------------\u001b[0m",
      "\u001b[1;31mAttributeError\u001b[0m                            Traceback (most recent call last)",
      "\u001b[1;32m~\\AppData\\Local\\Temp/ipykernel_17116/3849138292.py\u001b[0m in \u001b[0;36m<module>\u001b[1;34m\u001b[0m\n\u001b[1;32m----> 1\u001b[1;33m \u001b[0my_pred_A\u001b[0m\u001b[1;33m.\u001b[0m\u001b[0mto_\u001b[0m\u001b[1;33m(\u001b[0m\u001b[1;34m\"test_A.csv\"\u001b[0m\u001b[1;33m)\u001b[0m\u001b[1;33m\u001b[0m\u001b[1;33m\u001b[0m\u001b[0m\n\u001b[0m",
      "\u001b[1;31mAttributeError\u001b[0m: 'numpy.ndarray' object has no attribute 'to_'"
     ]
    }
   ],
   "source": [
    "y_pred_A.to_(\"test_A.csv\")"
   ]
  },
  {
   "cell_type": "markdown",
   "id": "8489a083",
   "metadata": {
    "ExecuteTime": {
     "end_time": "2023-07-18T19:04:39.298045Z",
     "start_time": "2023-07-18T19:04:39.255734Z"
    }
   },
   "source": [
    "# For Automobiles Share Price"
   ]
  },
  {
   "cell_type": "code",
   "execution_count": null,
   "id": "1d101f5c",
   "metadata": {
    "ExecuteTime": {
     "end_time": "2023-07-28T17:46:47.904020Z",
     "start_time": "2023-07-28T17:46:47.904020Z"
    }
   },
   "outputs": [],
   "source": [
    "X2 = Train_Data_B.iloc[:,0:14]\n",
    "y2 = Train_Data_B.iloc[:,-1]"
   ]
  },
  {
   "cell_type": "code",
   "execution_count": null,
   "id": "0043d5f9",
   "metadata": {
    "ExecuteTime": {
     "end_time": "2023-07-28T17:46:47.907019Z",
     "start_time": "2023-07-28T17:46:47.907019Z"
    }
   },
   "outputs": [],
   "source": [
    "X2.head()"
   ]
  },
  {
   "cell_type": "code",
   "execution_count": null,
   "id": "98681fa3",
   "metadata": {
    "ExecuteTime": {
     "end_time": "2023-07-28T17:46:47.910017Z",
     "start_time": "2023-07-28T17:46:47.910017Z"
    }
   },
   "outputs": [],
   "source": [
    "y2"
   ]
  },
  {
   "cell_type": "code",
   "execution_count": null,
   "id": "ba213267",
   "metadata": {
    "ExecuteTime": {
     "end_time": "2023-07-28T17:46:47.913017Z",
     "start_time": "2023-07-28T17:46:47.913017Z"
    }
   },
   "outputs": [],
   "source": [
    "X_train_B, X_test_B, y_train_B, y_test_B = train_test_split(X2, y2, test_size=0.2, random_state=42)"
   ]
  },
  {
   "cell_type": "code",
   "execution_count": null,
   "id": "d66a86fa",
   "metadata": {
    "ExecuteTime": {
     "end_time": "2023-07-28T17:46:47.917014Z",
     "start_time": "2023-07-28T17:46:47.917014Z"
    }
   },
   "outputs": [],
   "source": [
    "scaler = StandardScaler()\n",
    "X_train_B = scaler.fit_transform(X_train_B)\n",
    "X_test_B= scaler.transform(X_test_B)"
   ]
  },
  {
   "cell_type": "code",
   "execution_count": null,
   "id": "597c2b3a",
   "metadata": {
    "ExecuteTime": {
     "end_time": "2023-07-28T17:46:47.921011Z",
     "start_time": "2023-07-28T17:46:47.921011Z"
    }
   },
   "outputs": [],
   "source": [
    "model_data_B = []\n",
    "for name,curr_model_B in models :\n",
    "    curr_model_B.fit(X_train_B,y_train_B)\n",
    "    curr_model_data_B = {}\n",
    "    curr_model_data_B[\"Name\"] = name\n",
    "    curr_model_data_B[\"Train R2 Score\"] = metrics.r2_score(y_train_B,curr_model_B.predict(X_train_B))\n",
    "    curr_model_data_B[\"Validate R2 Score\"] = metrics.r2_score(y_test_B,curr_model_B.predict(X_test_B))\n",
    "    curr_model_data_B[\"Test RMSE Score\"] = (mean_squared_error(y_test_B,curr_model_B.predict(X_test_B)))\n",
    "    model_data_B.append(curr_model_data_B)"
   ]
  },
  {
   "cell_type": "code",
   "execution_count": null,
   "id": "23743f4d",
   "metadata": {
    "ExecuteTime": {
     "end_time": "2023-07-28T17:46:47.924010Z",
     "start_time": "2023-07-28T17:46:47.924010Z"
    }
   },
   "outputs": [],
   "source": [
    "modelComparison_B = pd.DataFrame(model_data_B)\n",
    "modelComparison_B = modelComparison_B.sort_values(by=['Train R2 Score', 'Validate R2 Score', 'Test RMSE Score'])\n",
    "modelComparison_B"
   ]
  },
  {
   "cell_type": "code",
   "execution_count": null,
   "id": "c1a71a3b",
   "metadata": {
    "ExecuteTime": {
     "end_time": "2023-07-28T17:46:47.927008Z",
     "start_time": "2023-07-28T17:46:47.927008Z"
    }
   },
   "outputs": [],
   "source": [
    "Final_Pred_B = RandomForestRegressor(n_estimators=200, max_depth=10)"
   ]
  },
  {
   "cell_type": "code",
   "execution_count": null,
   "id": "df628b91",
   "metadata": {
    "ExecuteTime": {
     "end_time": "2023-07-28T17:46:47.931007Z",
     "start_time": "2023-07-28T17:46:47.931007Z"
    }
   },
   "outputs": [],
   "source": [
    "Final_Pred_B.fit(X_train_B, y_train_B)"
   ]
  },
  {
   "cell_type": "code",
   "execution_count": null,
   "id": "1877c4f0",
   "metadata": {
    "ExecuteTime": {
     "end_time": "2023-07-28T17:46:47.935007Z",
     "start_time": "2023-07-28T17:46:47.935007Z"
    }
   },
   "outputs": [],
   "source": [
    "y_pred_B = Final_Pred_B.predict(Test_Data_A)"
   ]
  },
  {
   "cell_type": "code",
   "execution_count": null,
   "id": "ead91d59",
   "metadata": {
    "ExecuteTime": {
     "end_time": "2023-07-28T17:46:47.938002Z",
     "start_time": "2023-07-28T17:46:47.938002Z"
    }
   },
   "outputs": [],
   "source": [
    "y_pred_B"
   ]
  },
  {
   "cell_type": "markdown",
   "id": "dcbaeab4",
   "metadata": {},
   "source": [
    "# For Power Share price"
   ]
  },
  {
   "cell_type": "code",
   "execution_count": null,
   "id": "aefeda9d",
   "metadata": {
    "ExecuteTime": {
     "end_time": "2023-07-28T17:46:47.943000Z",
     "start_time": "2023-07-28T17:46:47.943000Z"
    }
   },
   "outputs": [],
   "source": [
    "X3 = Train_Data_C.iloc[:,0:14]\n",
    "y3 = Train_Data_C.iloc[:,-1]"
   ]
  },
  {
   "cell_type": "code",
   "execution_count": null,
   "id": "76ac4e34",
   "metadata": {
    "ExecuteTime": {
     "end_time": "2023-07-28T17:46:47.945998Z",
     "start_time": "2023-07-28T17:46:47.945998Z"
    }
   },
   "outputs": [],
   "source": [
    "X3.head()"
   ]
  },
  {
   "cell_type": "code",
   "execution_count": null,
   "id": "ded8d386",
   "metadata": {
    "ExecuteTime": {
     "end_time": "2023-07-28T17:46:47.948995Z",
     "start_time": "2023-07-28T17:46:47.948995Z"
    }
   },
   "outputs": [],
   "source": [
    "y3"
   ]
  },
  {
   "cell_type": "code",
   "execution_count": null,
   "id": "7813ad12",
   "metadata": {
    "ExecuteTime": {
     "end_time": "2023-07-28T17:46:47.952994Z",
     "start_time": "2023-07-28T17:46:47.952994Z"
    }
   },
   "outputs": [],
   "source": [
    "X_train_C, X_test_C, y_train_C, y_test_C = train_test_split(X3, y3, test_size=0.2, random_state=42)"
   ]
  },
  {
   "cell_type": "code",
   "execution_count": null,
   "id": "62f4c643",
   "metadata": {
    "ExecuteTime": {
     "end_time": "2023-07-28T17:46:47.955993Z",
     "start_time": "2023-07-28T17:46:47.955993Z"
    }
   },
   "outputs": [],
   "source": [
    "scaler = StandardScaler()\n",
    "X_train_C = scaler.fit_transform(X_train_C)\n",
    "X_test_C= scaler.transform(X_test_C)"
   ]
  },
  {
   "cell_type": "code",
   "execution_count": null,
   "id": "c1cffd0b",
   "metadata": {
    "ExecuteTime": {
     "end_time": "2023-07-28T17:46:47.959989Z",
     "start_time": "2023-07-28T17:46:47.959989Z"
    }
   },
   "outputs": [],
   "source": [
    "model_data_C = []\n",
    "for name,curr_model_C in models :\n",
    "    curr_model_C.fit(X_train_C,y_train_C)\n",
    "    curr_model_data_C = {}\n",
    "    curr_model_data_C[\"Name\"] = name\n",
    "    curr_model_data_C[\"Train R2 Score\"] = metrics.r2_score(y_train_C,curr_model_C.predict(X_train_C))\n",
    "    curr_model_data_C[\"Validate R2 Score\"] = metrics.r2_score(y_test_C,curr_model_C.predict(X_test_C))\n",
    "    curr_model_data_C[\"Test RMSE Score\"] = (mean_squared_error(y_test_C,curr_model_C.predict(X_test_C)))\n",
    "    model_data_C.append(curr_model_data_C)"
   ]
  },
  {
   "cell_type": "code",
   "execution_count": null,
   "id": "e49153f5",
   "metadata": {
    "ExecuteTime": {
     "end_time": "2023-07-28T17:46:47.962989Z",
     "start_time": "2023-07-28T17:46:47.962989Z"
    }
   },
   "outputs": [],
   "source": [
    "modelComparison_C = pd.DataFrame(model_data_C)\n",
    "modelComparison_C = modelComparison_C.sort_values(by=['Train R2 Score', 'Validate R2 Score', 'Test RMSE Score'])\n",
    "modelComparison_C"
   ]
  },
  {
   "cell_type": "code",
   "execution_count": null,
   "id": "2e43e939",
   "metadata": {
    "ExecuteTime": {
     "end_time": "2023-07-28T17:46:47.965986Z",
     "start_time": "2023-07-28T17:46:47.965986Z"
    }
   },
   "outputs": [],
   "source": [
    "Final_Pred_C = RandomForestRegressor(n_estimators=200, max_depth=10)"
   ]
  },
  {
   "cell_type": "code",
   "execution_count": null,
   "id": "41b6df67",
   "metadata": {
    "ExecuteTime": {
     "end_time": "2023-07-28T17:46:47.968985Z",
     "start_time": "2023-07-28T17:46:47.968985Z"
    }
   },
   "outputs": [],
   "source": [
    "Final_Pred_C.fit(X_train_C,y_train_C)"
   ]
  },
  {
   "cell_type": "code",
   "execution_count": null,
   "id": "3eb73cd9",
   "metadata": {
    "ExecuteTime": {
     "end_time": "2023-07-28T17:46:47.971983Z",
     "start_time": "2023-07-28T17:46:47.971983Z"
    }
   },
   "outputs": [],
   "source": [
    "y_pred_C = Final_Pred_C.predict(Test_Data_A)"
   ]
  },
  {
   "cell_type": "code",
   "execution_count": null,
   "id": "c0365bc8",
   "metadata": {
    "ExecuteTime": {
     "end_time": "2023-07-28T17:46:47.974980Z",
     "start_time": "2023-07-28T17:46:47.974980Z"
    }
   },
   "outputs": [],
   "source": [
    "y_pred_C"
   ]
  },
  {
   "cell_type": "markdown",
   "id": "c63224cd",
   "metadata": {},
   "source": [
    "# Predictions for Test Dataset"
   ]
  },
  {
   "cell_type": "code",
   "execution_count": null,
   "id": "bdcac38c",
   "metadata": {
    "ExecuteTime": {
     "end_time": "2023-07-28T17:46:47.977980Z",
     "start_time": "2023-07-28T17:46:47.977980Z"
    }
   },
   "outputs": [],
   "source": [
    "test_data = pd.read_excel(\"Test_Data.xlsx\")"
   ]
  },
  {
   "cell_type": "code",
   "execution_count": null,
   "id": "583304b7",
   "metadata": {
    "ExecuteTime": {
     "end_time": "2023-07-28T17:46:47.980978Z",
     "start_time": "2023-07-28T17:46:47.980978Z"
    }
   },
   "outputs": [],
   "source": [
    "dates = list(test_data['dates'])"
   ]
  },
  {
   "cell_type": "code",
   "execution_count": null,
   "id": "403ce872",
   "metadata": {
    "ExecuteTime": {
     "end_time": "2023-07-28T17:46:47.984975Z",
     "start_time": "2023-07-28T17:46:47.984975Z"
    }
   },
   "outputs": [],
   "source": [
    "dates"
   ]
  },
  {
   "cell_type": "code",
   "execution_count": null,
   "id": "2947462c",
   "metadata": {
    "ExecuteTime": {
     "end_time": "2023-07-28T17:46:47.987973Z",
     "start_time": "2023-07-28T17:46:47.987973Z"
    }
   },
   "outputs": [],
   "source": [
    "predictions = pd.DataFrame()\n",
    "predictions"
   ]
  },
  {
   "cell_type": "code",
   "execution_count": null,
   "id": "7b546076",
   "metadata": {
    "ExecuteTime": {
     "end_time": "2023-07-28T17:46:47.991971Z",
     "start_time": "2023-07-28T17:46:47.991971Z"
    }
   },
   "outputs": [],
   "source": [
    "predictions['Dates'] = dates\n",
    "predictions['consultancy'] = y_pred_A\n",
    "predictions['automobiles'] = y_pred_B\n",
    "predictions['power'] = y_pred_C\n",
    "predictions"
   ]
  },
  {
   "cell_type": "code",
   "execution_count": null,
   "id": "45fb2ba5",
   "metadata": {
    "ExecuteTime": {
     "end_time": "2023-07-28T17:46:47.994970Z",
     "start_time": "2023-07-28T17:46:47.994970Z"
    },
    "scrolled": true
   },
   "outputs": [],
   "source": [
    "predictions.head()"
   ]
  },
  {
   "cell_type": "code",
   "execution_count": null,
   "id": "0aa84d77",
   "metadata": {
    "ExecuteTime": {
     "end_time": "2023-07-28T17:46:47.997968Z",
     "start_time": "2023-07-28T17:46:47.997968Z"
    }
   },
   "outputs": [],
   "source": [
    "Xt = predictions.iloc[:,1:]"
   ]
  },
  {
   "cell_type": "code",
   "execution_count": null,
   "id": "cf31eea4",
   "metadata": {
    "ExecuteTime": {
     "end_time": "2023-07-28T17:46:48.000967Z",
     "start_time": "2023-07-28T17:46:48.000967Z"
    }
   },
   "outputs": [],
   "source": [
    "Xt"
   ]
  },
  {
   "cell_type": "code",
   "execution_count": null,
   "id": "f806995f",
   "metadata": {
    "ExecuteTime": {
     "end_time": "2023-07-28T17:46:48.003965Z",
     "start_time": "2023-07-28T17:46:48.003965Z"
    }
   },
   "outputs": [],
   "source": [
    "yt = predictions.iloc[:,0:1]"
   ]
  },
  {
   "cell_type": "code",
   "execution_count": null,
   "id": "9fb46b4e",
   "metadata": {
    "ExecuteTime": {
     "end_time": "2023-07-28T17:46:48.006963Z",
     "start_time": "2023-07-28T17:46:48.006963Z"
    }
   },
   "outputs": [],
   "source": [
    "yt"
   ]
  },
  {
   "cell_type": "code",
   "execution_count": null,
   "id": "59ddfcd8",
   "metadata": {
    "ExecuteTime": {
     "end_time": "2023-07-28T17:46:48.009961Z",
     "start_time": "2023-07-28T17:46:48.009961Z"
    }
   },
   "outputs": [],
   "source": [
    "plt.figure(figsize=(15,8))\n",
    "plt.legend\n",
    "plt.plot(yt, Xt)\n",
    "plt.show()"
   ]
  },
  {
   "cell_type": "code",
   "execution_count": null,
   "id": "c9ac2240",
   "metadata": {},
   "outputs": [],
   "source": []
  }
 ],
 "metadata": {
  "kernelspec": {
   "display_name": "Python 3 (ipykernel)",
   "language": "python",
   "name": "python3"
  },
  "language_info": {
   "codemirror_mode": {
    "name": "ipython",
    "version": 3
   },
   "file_extension": ".py",
   "mimetype": "text/x-python",
   "name": "python",
   "nbconvert_exporter": "python",
   "pygments_lexer": "ipython3",
   "version": "3.9.7"
  }
 },
 "nbformat": 4,
 "nbformat_minor": 5
}
